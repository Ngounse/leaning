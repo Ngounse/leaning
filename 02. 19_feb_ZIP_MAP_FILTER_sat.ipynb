{
 "cells": [
  {
   "cell_type": "markdown",
   "metadata": {},
   "source": [
    "### pyrhon zip()\n"
   ]
  },
  {
   "cell_type": "code",
   "execution_count": 4,
   "metadata": {},
   "outputs": [
    {
     "name": "stdout",
     "output_type": "stream",
     "text": [
      "[23.4375     26.85440557 24.5389649  18.02595738 17.94181725 31.25\n",
      " 24.07407407 19.72103697]\n"
     ]
    }
   ],
   "source": [
    "import numpy as np\n",
    "#BIM =w/(h/100)**2 by numpy array\n",
    "\n",
    "def test():\n",
    "    w = np.array([60,74,66,45,42,80,78,55])\n",
    "    h = np.array([160,166,164,158,153,160,180,167])\n",
    "    BMI = w / ( h / 100 ) ** 2\n",
    "    print(BMI)\n",
    "    \n",
    "test()"
   ]
  },
  {
   "cell_type": "code",
   "execution_count": 14,
   "metadata": {},
   "outputs": [
    {
     "name": "stdout",
     "output_type": "stream",
     "text": [
      "[23.437499999999996, 26.854405574103644, 24.538964901844146, 18.02595737862522, 17.941817249775728, 31.249999999999993, 24.074074074074073]\n"
     ]
    }
   ],
   "source": [
    "# list comprehension\n",
    "def test1():\n",
    "    w = [60,74,66,45,42,80,78]\n",
    "    h = [160,166,164,158,153,160,180]\n",
    "    BMI = []\n",
    "    for i in range(len(w)):\n",
    "        BMI.append( w[i] / (h[i] / 100 ) **2 )\n",
    "    return BMI\n",
    "        \n",
    "print(test1())"
   ]
  },
  {
   "cell_type": "code",
   "execution_count": 15,
   "metadata": {},
   "outputs": [
    {
     "name": "stdout",
     "output_type": "stream",
     "text": [
      "[23.437499999999996, 26.854405574103644, 24.538964901844146, 18.02595737862522, 17.941817249775728, 31.249999999999993, 24.074074074074073]\n"
     ]
    }
   ],
   "source": [
    "# by using python zip()\n",
    "def test2():\n",
    "    weight = [60,74,66,45,42,80,78]\n",
    "    height = [160,166,164,158,153,160,180]\n",
    "    BMI = []\n",
    "    for w,h in zip(weight, height ):\n",
    "        BMI.append( w / ( h / 100 ) **2 )\n",
    "    return BMI\n",
    "    \n",
    "print(test2())"
   ]
  },
  {
   "cell_type": "code",
   "execution_count": 17,
   "metadata": {},
   "outputs": [
    {
     "name": "stdout",
     "output_type": "stream",
     "text": [
      "[23.437499999999996, 26.854405574103644, 24.538964901844146, 18.02595737862522, 17.941817249775728, 31.249999999999993, 24.074074074074073]\n"
     ]
    }
   ],
   "source": [
    "# by using python zip()\n",
    "def test3():\n",
    "    weight = [60,74,66,45,42,80,78]\n",
    "    height = [160,166,164,158,153,160,180]\n",
    "    BMI = []\n",
    "    return [w / ( h / 100 ) **2 for w,h in zip(weight, height ) ]\n",
    "    \n",
    "print(test3())"
   ]
  },
  {
   "cell_type": "code",
   "execution_count": 19,
   "metadata": {},
   "outputs": [
    {
     "name": "stdout",
     "output_type": "stream",
     "text": [
      "[{'Seth': 23.437499999999996}, {'Dara': 26.854405574103644}, {'Bros': 24.538964901844146}, {'Neary': 18.02595737862522}, {'Sey': 17.941817249775728}, {'David': 31.249999999999993}, {'Vireakbot': 24.074074074074073}]\n"
     ]
    }
   ],
   "source": [
    "def test4():\n",
    "    weight = [60,74,66,45,42,80,78]\n",
    "    height = [160,166,164,158,153,160,180]\n",
    "    name = ['Seth', 'Dara', 'Bros', 'Neary', 'Sey', 'David', 'Vireakbot']\n",
    "    return [{n:w / ( h / 100 ) **2} for w,h,n in zip(weight, height, name ) ]\n",
    "    \n",
    "print(test4())"
   ]
  },
  {
   "cell_type": "code",
   "execution_count": 47,
   "metadata": {},
   "outputs": [
    {
     "name": "stdout",
     "output_type": "stream",
     "text": [
      "[{'Seth': 23.437499999999996}, {'Dara': 26.854405574103644}, {'Bros': 24.538964901844146}, {'David': 31.249999999999993}, {'Vireakbot': 24.074074074074073}]\n"
     ]
    }
   ],
   "source": [
    "def test5():\n",
    "    weight = [60,74,66,45,42,80,78]\n",
    "    height = [160,166,164,158,153,160,180]\n",
    "    name = ['Seth', 'Dara', 'Bros', 'Neary', 'Sey', 'David', 'Vireakbot']\n",
    "    gender = ['M', 'M','M','F','F','M','M']\n",
    "    return [{n:w / ( h / 100 ) **2} for w,h,n,g in zip(weight, height, name, gender ) if g=='M' ]\n",
    "    \n",
    "    \n",
    "print(test5())"
   ]
  },
  {
   "cell_type": "markdown",
   "metadata": {},
   "source": [
    "#python map() and filter\n",
    "numpy\n",
    "scipy\n",
    "pandas\n"
   ]
  }
 ],
 "metadata": {
  "kernelspec": {
   "display_name": "Python 3 (ipykernel)",
   "language": "python",
   "name": "python3"
  },
  "language_info": {
   "codemirror_mode": {
    "name": "ipython",
    "version": 3
   },
   "file_extension": ".py",
   "mimetype": "text/x-python",
   "name": "python",
   "nbconvert_exporter": "python",
   "pygments_lexer": "ipython3",
   "version": "3.7.11"
  }
 },
 "nbformat": 4,
 "nbformat_minor": 4
}
