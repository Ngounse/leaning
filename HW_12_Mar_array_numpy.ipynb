{
 "cells": [
  {
   "cell_type": "code",
   "execution_count": 2,
   "metadata": {},
   "outputs": [],
   "source": [
    "import numpy as np"
   ]
  },
  {
   "cell_type": "code",
   "execution_count": 3,
   "metadata": {},
   "outputs": [
    {
     "data": {
      "text/plain": [
       "array([419, 867, 750, 108, 579, 461, 860, 788, 730, 165, 481, 330, 618,\n",
       "       308, 815, 334, 517, 121, 770, 782, 446, 488, 189, 867, 265, 378,\n",
       "       900, 846, 614, 759, 318, 715, 629, 783, 228, 281, 787, 232, 299,\n",
       "       274, 266, 314, 996, 541, 163, 995, 481, 289, 132, 682, 265, 101,\n",
       "       659, 208, 889, 886, 367, 453, 252, 657, 364, 534, 952, 924, 477,\n",
       "       803, 968, 501, 203, 920, 341, 226, 862, 764, 656, 701, 425, 955,\n",
       "       759, 165, 880, 956, 649, 196, 863, 334, 336, 747, 506, 699, 450,\n",
       "       628, 139, 164, 156, 568, 206, 662, 579, 204])"
      ]
     },
     "execution_count": 44,
     "metadata": {},
     "output_type": "execute_result"
    }
   ],
   "source": [
    "b = np.random.randint(100, 1000, 100)\n",
    "b"
   ]
  },
  {
   "cell_type": "code",
   "execution_count": 4,
   "metadata": {},
   "outputs": [],
   "source": [
    "#1. create boolean array to show value of item that divide by 5 and 3\n",
    "#2. create boolean array to show value of item that divide by 2 and 7\n",
    "#3. create boolean array to show value of item that divide by 5 or 7\n",
    "#4. create boolean array to show value of item that divide by 2 or 3\n",
    "#5. from  problem 1 to 4 above create boolean indexing of each problem \n",
    "#6. from  problem 1 to 4 above find index of each problem item value \n",
    "#7. create boolean array that the item has 9 is the last number\n",
    "#8. create boolean array sum of each digint equal to 9 or 7"
   ]
  },
  {
   "cell_type": "code",
   "execution_count": 9,
   "metadata": {},
   "outputs": [
    {
     "data": {
      "text/plain": [
       "array([False, False,  True, False, False, False, False, False, False,\n",
       "        True, False,  True, False, False, False, False, False, False,\n",
       "       False, False, False, False, False, False, False, False,  True,\n",
       "       False, False, False, False, False, False, False, False, False,\n",
       "       False, False, False, False, False, False, False, False, False,\n",
       "       False, False, False, False, False, False, False, False, False,\n",
       "       False, False, False, False, False, False, False, False, False,\n",
       "       False, False, False, False, False, False, False, False, False,\n",
       "       False, False, False, False, False, False, False,  True, False,\n",
       "       False, False, False, False, False, False, False, False, False,\n",
       "        True, False, False, False, False, False, False, False, False,\n",
       "       False])"
      ]
     },
     "execution_count": 46,
     "metadata": {},
     "output_type": "execute_result"
    }
   ],
   "source": [
    "#1. create boolean array to show value of item that divide by 5 and 3\n",
    "c_3_and_5 = ( b % 3 == 0 ) & ( b % 5 == 0 )\n",
    "c_3_and_5"
   ]
  },
  {
   "cell_type": "code",
   "execution_count": 10,
   "metadata": {},
   "outputs": [
    {
     "data": {
      "text/plain": [
       "array([False, False, False, False, False, False, False, False, False,\n",
       "       False, False, False, False,  True, False, False, False, False,\n",
       "        True, False, False, False, False, False, False,  True, False,\n",
       "       False, False, False, False, False, False, False, False, False,\n",
       "       False, False, False, False,  True, False, False, False, False,\n",
       "       False, False, False, False, False, False, False, False, False,\n",
       "       False, False, False, False,  True, False,  True, False,  True,\n",
       "        True, False, False, False, False, False, False, False, False,\n",
       "       False, False, False, False, False, False, False, False, False,\n",
       "       False, False,  True, False, False,  True, False, False, False,\n",
       "       False, False, False, False, False, False, False, False, False,\n",
       "       False])"
      ]
     },
     "execution_count": 47,
     "metadata": {},
     "output_type": "execute_result"
    }
   ],
   "source": [
    "#2. create boolean array to show value of item that divide by 2 and 7\n",
    "c_2_nad_7 = ( b % 2 == 0 ) & ( b % 7 == 0 )\n",
    "c_2_nad_7"
   ]
  },
  {
   "cell_type": "code",
   "execution_count": 11,
   "metadata": {},
   "outputs": [
    {
     "data": {
      "text/plain": [
       "array([False, False,  True, False, False, False,  True, False,  True,\n",
       "        True, False,  True, False,  True,  True, False, False, False,\n",
       "        True, False, False, False,  True, False,  True,  True,  True,\n",
       "       False, False, False, False,  True, False, False, False, False,\n",
       "       False, False, False, False,  True, False, False, False, False,\n",
       "        True, False, False, False, False,  True, False, False, False,\n",
       "        True, False, False, False,  True, False,  True, False,  True,\n",
       "        True, False, False, False, False,  True,  True, False, False,\n",
       "       False, False, False, False,  True,  True, False,  True,  True,\n",
       "       False, False,  True, False, False,  True, False, False, False,\n",
       "        True, False, False, False, False, False, False, False, False,\n",
       "       False])"
      ]
     },
     "execution_count": 48,
     "metadata": {},
     "output_type": "execute_result"
    }
   ],
   "source": [
    "#3. create boolean array to show value of item that divide by 5 or 7\n",
    "c_5_or_7 = ( b % 5 == 0 ) | ( b % 7 == 0 )\n",
    "c_5_or_7"
   ]
  },
  {
   "cell_type": "code",
   "execution_count": 12,
   "metadata": {},
   "outputs": [
    {
     "data": {
      "text/plain": [
       "array([False,  True,  True,  True,  True, False,  True,  True,  True,\n",
       "        True, False,  True,  True,  True, False,  True, False, False,\n",
       "        True,  True,  True,  True,  True,  True, False,  True,  True,\n",
       "        True,  True,  True,  True, False, False,  True,  True, False,\n",
       "       False,  True, False,  True,  True,  True,  True, False, False,\n",
       "       False, False, False,  True,  True, False, False, False,  True,\n",
       "       False,  True, False,  True,  True,  True,  True,  True,  True,\n",
       "        True,  True, False,  True,  True, False,  True, False,  True,\n",
       "        True,  True,  True, False, False, False,  True,  True,  True,\n",
       "        True, False,  True, False,  True,  True,  True,  True,  True,\n",
       "        True,  True, False,  True,  True,  True,  True,  True,  True,\n",
       "        True])"
      ]
     },
     "execution_count": 49,
     "metadata": {},
     "output_type": "execute_result"
    }
   ],
   "source": [
    "#4. create boolean array to show value of item that divide by 2 or 3\n",
    "c_2_or_3 = ( b % 2 == 0 ) | ( b % 3 == 0 )\n",
    "c_2_or_3"
   ]
  },
  {
   "cell_type": "code",
   "execution_count": 57,
   "metadata": {},
   "outputs": [
    {
     "name": "stdout",
     "output_type": "stream",
     "text": [
      " _________________________________ divide by 3_and_5 _______________________________________________ \n",
      "\n",
      "[750 165 330 900 165 450]\n",
      " ___________________________________________________________________________________________________ \n",
      "\n",
      " _________________________________ divide by 2_nad_7 _______________________________________________ \n",
      "\n",
      "[308 770 378 266 252 364 952 924 196 336]\n",
      " ___________________________________________________________________________________________________ \n",
      "\n",
      " _________________________________ divide by 5_or_7 _______________________________________________ \n",
      "\n",
      "[750 860 730 165 330 308 815 770 189 265 378 900 715 266 995 265 889 252\n",
      " 364 952 924 203 920 425 955 165 880 196 336 450]\n",
      " ___________________________________________________________________________________________________ \n",
      "\n",
      " _________________________________ divide by 2_or_3 _______________________________________________ \n",
      "\n",
      "[867 750 108 579 860 788 730 165 330 618 308 334 770 782 446 488 189 867\n",
      " 378 900 846 614 759 318 783 228 232 274 266 314 996 132 682 208 886 453\n",
      " 252 657 364 534 952 924 477 968 501 920 226 862 764 656 759 165 880 956\n",
      " 196 334 336 747 506 699 450 628 164 156 568 206 662 579 204]\n",
      " __________________________________________________________________________________________________ \n",
      "\n"
     ]
    }
   ],
   "source": [
    "#5. from  problem 1 to 4 above create boolean indexing of each problem\n",
    "print(' _________________________________ divide by 3_and_5 _______________________________________________ \\n')\n",
    "print(b[c_3_and_5])\n",
    "print(' ___________________________________________________________________________________________________ \\n')\n",
    "print(' _________________________________ divide by 2_nad_7 _______________________________________________ \\n')\n",
    "print(b[c_2_nad_7])\n",
    "print(' ___________________________________________________________________________________________________ \\n')\n",
    "print(' _________________________________ divide by 5_or_7 _______________________________________________ \\n')\n",
    "print( b[c_5_or_7])\n",
    "print(' ___________________________________________________________________________________________________ \\n')\n",
    "print(' _________________________________ divide by 2_or_3 _______________________________________________ \\n')\n",
    "print( b[c_2_or_3])\n",
    "print(' __________________________________________________________________________________________________ \\n')\n"
   ]
  },
  {
   "cell_type": "code",
   "execution_count": 56,
   "metadata": {},
   "outputs": [
    {
     "name": "stdout",
     "output_type": "stream",
     "text": [
      " _________________________________ divide by 3_and_5 _______________________________________________ \n",
      "\n",
      "(array([ 2,  9, 11, 26, 79, 90]),)\n",
      " ___________________________________________________________________________________________________ \n",
      "\n",
      " _________________________________ divide by 2_nad_7 _______________________________________________ \n",
      "\n",
      "(array([13, 18, 25, 40, 58, 60, 62, 63, 83, 86]),)\n",
      " ___________________________________________________________________________________________________ \n",
      "\n",
      " _________________________________ divide by 5_or_7 _______________________________________________ \n",
      "\n",
      "(array([ 2,  6,  8,  9, 11, 13, 14, 18, 22, 24, 25, 26, 31, 40, 45, 50, 54,\n",
      "       58, 60, 62, 63, 68, 69, 76, 77, 79, 80, 83, 86, 90]),)\n",
      " ___________________________________________________________________________________________________ \n",
      "\n",
      " _________________________________ divide by 2_or_3 _______________________________________________ \n",
      "\n",
      "(array([ 1,  2,  3,  4,  6,  7,  8,  9, 11, 12, 13, 15, 18, 19, 20, 21, 22,\n",
      "       23, 25, 26, 27, 28, 29, 30, 33, 34, 37, 39, 40, 41, 42, 48, 49, 53,\n",
      "       55, 57, 58, 59, 60, 61, 62, 63, 64, 66, 67, 69, 71, 72, 73, 74, 78,\n",
      "       79, 80, 81, 83, 85, 86, 87, 88, 89, 90, 91, 93, 94, 95, 96, 97, 98,\n",
      "       99]),)\n",
      " ___________________________________________________________________________________________________ \n",
      "\n"
     ]
    }
   ],
   "source": [
    "#6. from  problem 1 to 4 above find index of each problem item value \n",
    "print(' _________________________________ divide by 3_and_5 _______________________________________________ \\n')\n",
    "print(np.where( ( b % 3 == 0 ) & ( b % 5 == 0 ) ) )\n",
    "print(' ___________________________________________________________________________________________________ \\n')\n",
    "print(' _________________________________ divide by 2_nad_7 _______________________________________________ \\n')\n",
    "print(np.where( ( b % 2 == 0 ) & ( b % 7 == 0 ) ) )\n",
    "print(' ___________________________________________________________________________________________________ \\n')\n",
    "print(' _________________________________ divide by 5_or_7 _______________________________________________ \\n')\n",
    "print( np.where( ( b % 5 == 0 ) | ( b % 7 == 0 ) ) )\n",
    "print(' ___________________________________________________________________________________________________ \\n')\n",
    "print(' _________________________________ divide by 2_or_3 _______________________________________________ \\n')\n",
    "print( np.where( ( b % 2 == 0 ) | ( b % 3 == 0 ) ) )\n",
    "print(' ___________________________________________________________________________________________________ \\n')\n"
   ]
  },
  {
   "cell_type": "code",
   "execution_count": null,
   "metadata": {},
   "outputs": [],
   "source": []
  }
 ],
 "metadata": {
  "kernelspec": {
   "display_name": "Python 3 (ipykernel)",
   "language": "python",
   "name": "python3"
  },
  "language_info": {
   "codemirror_mode": {
    "name": "ipython",
    "version": 3
   },
   "file_extension": ".py",
   "mimetype": "text/x-python",
   "name": "python",
   "nbconvert_exporter": "python",
   "pygments_lexer": "ipython3",
   "version": "3.7.11"
  }
 },
 "nbformat": 4,
 "nbformat_minor": 4
}
