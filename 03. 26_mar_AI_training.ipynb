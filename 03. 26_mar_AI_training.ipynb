{
 "cells": [
  {
   "cell_type": "code",
   "execution_count": 1,
   "metadata": {},
   "outputs": [],
   "source": [
    "import numpy as np"
   ]
  },
  {
   "cell_type": "code",
   "execution_count": 3,
   "metadata": {},
   "outputs": [
    {
     "data": {
      "text/plain": [
       "array([10, 11, 12, 13, 14, 15, 16, 17, 18, 19])"
      ]
     },
     "execution_count": 3,
     "metadata": {},
     "output_type": "execute_result"
    }
   ],
   "source": [
    "# random split rows into trianing and test the data set\n",
    "team = np.arange(10, 20)\n",
    "team"
   ]
  },
  {
   "cell_type": "code",
   "execution_count": 5,
   "metadata": {},
   "outputs": [
    {
     "data": {
      "text/plain": [
       "array([11, 15, 16, 10, 12, 19, 13, 17, 14, 18])"
      ]
     },
     "execution_count": 5,
     "metadata": {},
     "output_type": "execute_result"
    }
   ],
   "source": [
    "np.random.shuffle(team)\n",
    "team"
   ]
  },
  {
   "cell_type": "code",
   "execution_count": 9,
   "metadata": {},
   "outputs": [
    {
     "name": "stdout",
     "output_type": "stream",
     "text": [
      "[11 15 16 10 12 19 13]\n",
      "[17 14 18]\n"
     ]
    }
   ],
   "source": [
    "# training 70% , testing 30%\n",
    "training, testting= team[:7], team[7:]\n",
    "print(training)\n",
    "print(testting)"
   ]
  },
  {
   "cell_type": "markdown",
   "metadata": {},
   "source": [
    "### 2D array"
   ]
  },
  {
   "cell_type": "code",
   "execution_count": 11,
   "metadata": {},
   "outputs": [
    {
     "data": {
      "text/plain": [
       "array([[257, 149, 164, 409, 358],\n",
       "       [381, 435, 318, 306, 227],\n",
       "       [135, 123, 280, 460, 351],\n",
       "       [236, 330, 172, 184, 477],\n",
       "       [483, 436, 187, 160, 356],\n",
       "       [443, 138, 433, 324, 169],\n",
       "       [136, 262, 480, 119, 160],\n",
       "       [412, 278, 350, 444, 301],\n",
       "       [264, 416, 371, 426, 395],\n",
       "       [233, 102, 193, 375, 440]])"
      ]
     },
     "execution_count": 11,
     "metadata": {},
     "output_type": "execute_result"
    }
   ],
   "source": [
    "d = np.random.randint(100, 500, size=(10, 5))\n",
    "d"
   ]
  },
  {
   "cell_type": "code",
   "execution_count": 13,
   "metadata": {},
   "outputs": [
    {
     "data": {
      "text/plain": [
       "array([[443, 138, 433, 324, 169],\n",
       "       [412, 278, 350, 444, 301],\n",
       "       [257, 149, 164, 409, 358],\n",
       "       [264, 416, 371, 426, 395],\n",
       "       [483, 436, 187, 160, 356],\n",
       "       [135, 123, 280, 460, 351],\n",
       "       [381, 435, 318, 306, 227],\n",
       "       [233, 102, 193, 375, 440],\n",
       "       [136, 262, 480, 119, 160],\n",
       "       [236, 330, 172, 184, 477]])"
      ]
     },
     "execution_count": 13,
     "metadata": {},
     "output_type": "execute_result"
    }
   ],
   "source": [
    "np.random.shuffle(d)\n",
    "d"
   ]
  },
  {
   "cell_type": "code",
   "execution_count": 15,
   "metadata": {},
   "outputs": [
    {
     "name": "stdout",
     "output_type": "stream",
     "text": [
      "[[443 138 433 324 169]\n",
      " [412 278 350 444 301]\n",
      " [257 149 164 409 358]\n",
      " [264 416 371 426 395]\n",
      " [483 436 187 160 356]\n",
      " [135 123 280 460 351]\n",
      " [381 435 318 306 227]\n",
      " [233 102 193 375 440]]\n",
      "[[136 262 480 119 160]\n",
      " [236 330 172 184 477]]\n"
     ]
    }
   ],
   "source": [
    "# tranining 80%, test 20%\n",
    "tranining, testing = d[:8], d[8:]\n",
    "print(tranining)\n",
    "print(testing)"
   ]
  },
  {
   "cell_type": "code",
   "execution_count": 20,
   "metadata": {},
   "outputs": [
    {
     "data": {
      "text/plain": [
       "array([[352, 849, 320, 891],\n",
       "       [992, 404, 910, 449],\n",
       "       [941, 718, 806, 391],\n",
       "       [470, 337, 433, 418],\n",
       "       [586, 581, 491, 950],\n",
       "       [538, 546, 800, 688],\n",
       "       [431, 811, 661, 808],\n",
       "       [395, 350, 723, 401],\n",
       "       [878, 468, 810, 781],\n",
       "       [511, 319, 567, 652],\n",
       "       [614, 622, 465, 554],\n",
       "       [964, 545, 952, 723],\n",
       "       [721, 882, 838, 679],\n",
       "       [381, 970, 752, 357],\n",
       "       [906, 705, 438, 346],\n",
       "       [460, 446, 579, 523],\n",
       "       [768, 421, 348, 732],\n",
       "       [792, 362, 918, 571],\n",
       "       [670, 564, 387, 936],\n",
       "       [327, 483, 711, 804]])"
      ]
     },
     "execution_count": 20,
     "metadata": {},
     "output_type": "execute_result"
    }
   ],
   "source": [
    "# random int, from (300==>1000), 2D(20, 4), tranining (60%)\n",
    "ff = np.random.randint(300, 1000, size=( 20, 4))\n",
    "ff"
   ]
  },
  {
   "cell_type": "code",
   "execution_count": 21,
   "metadata": {},
   "outputs": [
    {
     "data": {
      "text/plain": [
       "array([[470, 337, 433, 418],\n",
       "       [878, 468, 810, 781],\n",
       "       [906, 705, 438, 346],\n",
       "       [768, 421, 348, 732],\n",
       "       [460, 446, 579, 523],\n",
       "       [511, 319, 567, 652],\n",
       "       [538, 546, 800, 688],\n",
       "       [586, 581, 491, 950],\n",
       "       [964, 545, 952, 723],\n",
       "       [670, 564, 387, 936],\n",
       "       [614, 622, 465, 554],\n",
       "       [381, 970, 752, 357],\n",
       "       [431, 811, 661, 808],\n",
       "       [792, 362, 918, 571],\n",
       "       [992, 404, 910, 449],\n",
       "       [352, 849, 320, 891],\n",
       "       [327, 483, 711, 804],\n",
       "       [721, 882, 838, 679],\n",
       "       [941, 718, 806, 391],\n",
       "       [395, 350, 723, 401]])"
      ]
     },
     "execution_count": 21,
     "metadata": {},
     "output_type": "execute_result"
    }
   ],
   "source": [
    "np.random.shuffle(ff)\n",
    "ff"
   ]
  },
  {
   "cell_type": "code",
   "execution_count": 22,
   "metadata": {},
   "outputs": [
    {
     "name": "stdout",
     "output_type": "stream",
     "text": [
      "[[470 337 433 418]\n",
      " [878 468 810 781]\n",
      " [906 705 438 346]\n",
      " [768 421 348 732]\n",
      " [460 446 579 523]\n",
      " [511 319 567 652]\n",
      " [538 546 800 688]\n",
      " [586 581 491 950]\n",
      " [964 545 952 723]\n",
      " [670 564 387 936]\n",
      " [614 622 465 554]\n",
      " [381 970 752 357]]\n",
      "[[431 811 661 808]\n",
      " [792 362 918 571]\n",
      " [992 404 910 449]\n",
      " [352 849 320 891]\n",
      " [327 483 711 804]\n",
      " [721 882 838 679]\n",
      " [941 718 806 391]\n",
      " [395 350 723 401]]\n"
     ]
    }
   ],
   "source": [
    "#\n",
    "tranining, testing = ff[:12], ff[12:]\n",
    "print(tranining)\n",
    "print(testing)"
   ]
  },
  {
   "cell_type": "code",
   "execution_count": 26,
   "metadata": {},
   "outputs": [],
   "source": [
    "## Distribution\n",
    "import matplotlib.pyplot as plt\n",
    "%matplotlib inline\n",
    "%config InlineBackend.figure_format = 'retina'"
   ]
  },
  {
   "cell_type": "code",
   "execution_count": 27,
   "metadata": {},
   "outputs": [
    {
     "data": {
      "text/plain": [
       "0.57299183182191"
      ]
     },
     "execution_count": 27,
     "metadata": {},
     "output_type": "execute_result"
    }
   ],
   "source": [
    "np.random.rand()#[0,1]"
   ]
  },
  {
   "cell_type": "code",
   "execution_count": 28,
   "metadata": {},
   "outputs": [
    {
     "data": {
      "text/plain": [
       "array([0.18817092, 0.91882765, 0.31495289, 0.24801884, 0.12331404,\n",
       "       0.19765842, 0.13050587, 0.3431266 , 0.24364112, 0.88897878])"
      ]
     },
     "execution_count": 28,
     "metadata": {},
     "output_type": "execute_result"
    }
   ],
   "source": [
    "np.random.rand(10)"
   ]
  },
  {
   "cell_type": "code",
   "execution_count": 31,
   "metadata": {},
   "outputs": [
    {
     "data": {
      "text/plain": [
       "array([[0.80779868, 0.16683494, 0.11276526, 0.6641556 ],\n",
       "       [0.19878844, 0.50298298, 0.25087261, 0.6596098 ],\n",
       "       [0.53290211, 0.81546827, 0.41290101, 0.5386583 ],\n",
       "       [0.64407818, 0.273134  , 0.25583726, 0.28502442],\n",
       "       [0.12682025, 0.41338458, 0.88665102, 0.93345995]])"
      ]
     },
     "execution_count": 31,
     "metadata": {},
     "output_type": "execute_result"
    }
   ],
   "source": [
    "np.random.rand(5, 4) # array 2D"
   ]
  },
  {
   "cell_type": "code",
   "execution_count": 33,
   "metadata": {},
   "outputs": [
    {
     "data": {
      "text/plain": [
       "array([[[0.24696895, 0.68266643, 0.63282951, 0.67947003, 0.87767701],\n",
       "        [0.83126229, 0.63513548, 0.49779684, 0.04171223, 0.4096631 ],\n",
       "        [0.89488374, 0.96809485, 0.36113802, 0.94796047, 0.76846734],\n",
       "        [0.7609843 , 0.31212247, 0.38105104, 0.0661425 , 0.7476962 ]],\n",
       "\n",
       "       [[0.24740485, 0.35518592, 0.83752379, 0.50936298, 0.65855119],\n",
       "        [0.76261553, 0.55356988, 0.3889372 , 0.76206183, 0.87533695],\n",
       "        [0.50601023, 0.41054696, 0.09748603, 0.52338116, 0.66782922],\n",
       "        [0.72322443, 0.54069926, 0.62398147, 0.63970425, 0.62417493]],\n",
       "\n",
       "       [[0.8351804 , 0.50189471, 0.30352987, 0.4590682 , 0.93669002],\n",
       "        [0.18347681, 0.0247202 , 0.89168036, 0.07407696, 0.47456069],\n",
       "        [0.76933667, 0.48644133, 0.65356709, 0.52222209, 0.45897028],\n",
       "        [0.71806339, 0.86698861, 0.01752882, 0.67103674, 0.51481933]]])"
      ]
     },
     "execution_count": 33,
     "metadata": {},
     "output_type": "execute_result"
    }
   ],
   "source": [
    "np.random.rand(3, 4, 5) # array 3D"
   ]
  },
  {
   "cell_type": "code",
   "execution_count": 34,
   "metadata": {},
   "outputs": [
    {
     "data": {
      "text/plain": [
       "(array([ 94., 122.,  83.,  90., 103., 116., 101.,  87.,  96., 108.]),\n",
       " array([2.22093951e-05, 9.99004037e-02, 1.99778598e-01, 2.99656792e-01,\n",
       "        3.99534986e-01, 4.99413181e-01, 5.99291375e-01, 6.99169569e-01,\n",
       "        7.99047764e-01, 8.98925958e-01, 9.98804152e-01]),\n",
       " <a list of 10 Patch objects>)"
      ]
     },
     "execution_count": 34,
     "metadata": {},
     "output_type": "execute_result"
    },
    {
     "data": {
      "image/png": "[encoded data removed]",
      "text/plain": [
       "<Figure size 432x288 with 1 Axes>"
      ]
     },
     "metadata": {
      "image/png": {
       "height": 248,
       "width": 375
      },
      "needs_background": "light"
     },
     "output_type": "display_data"
    }
   ],
   "source": [
    "#uniform distribution\n",
    "plt.hist( np.random.rand( 1000))"
   ]
  },
  {
   "cell_type": "code",
   "execution_count": 40,
   "metadata": {},
   "outputs": [
    {
     "data": {
      "image/png": "[encoded data removed]",
      "text/plain": [
       "<Figure size 432x288 with 1 Axes>"
      ]
     },
     "metadata": {
      "image/png": {
       "height": 248,
       "width": 375
      },
      "needs_background": "light"
     },
     "output_type": "display_data"
    }
   ],
   "source": [
    "#uniform distribution\n",
    "plt.hist( np.random.rand( 1000));"
   ]
  },
  {
   "cell_type": "code",
   "execution_count": 65,
   "metadata": {},
   "outputs": [
    {
     "data": {
      "text/plain": [
       "3"
      ]
     },
     "execution_count": 65,
     "metadata": {},
     "output_type": "execute_result"
    }
   ],
   "source": [
    "np.random.randint(1, 7)"
   ]
  },
  {
   "cell_type": "code",
   "execution_count": 115,
   "metadata": {},
   "outputs": [
    {
     "data": {
      "text/plain": [
       "array([5, 4, 3, 3, 5, 4, 2, 5, 5, 3, 4, 3, 5, 5, 4, 1, 6, 4, 1, 2, 6, 6,\n",
       "       5, 3, 3, 3, 4, 1, 5, 1, 3, 3, 4, 3, 5, 4, 5, 6, 4, 2, 3, 2, 6, 5,\n",
       "       5, 1, 2, 6, 1, 3, 4, 1, 6, 3, 5, 3, 4, 6, 1, 5, 3, 5, 5, 1, 4, 2,\n",
       "       6, 5, 2, 1, 6, 1, 5, 1, 5, 5, 5, 3, 3, 4, 2, 1, 3, 3, 1, 2, 5, 3,\n",
       "       6, 5, 4, 6, 4, 1, 1, 4, 6, 2, 5, 1])"
      ]
     },
     "execution_count": 115,
     "metadata": {},
     "output_type": "execute_result"
    }
   ],
   "source": [
    "kla_klok = np.random.randint(1, 7, 100)\n",
    "kla_klok"
   ]
  },
  {
   "cell_type": "code",
   "execution_count": 54,
   "metadata": {},
   "outputs": [
    {
     "data": {
      "image/png": "[encoded data removed]",
      "text/plain": [
       "<Figure size 432x288 with 1 Axes>"
      ]
     },
     "metadata": {
      "image/png": {
       "height": 248,
       "width": 368
      },
      "needs_background": "light"
     },
     "output_type": "display_data"
    }
   ],
   "source": [
    "plt.hist( kla_klok );"
   ]
  },
  {
   "cell_type": "code",
   "execution_count": 116,
   "metadata": {},
   "outputs": [
    {
     "data": {
      "text/plain": [
       "array([165.68916835, 174.79620098, 164.2551233 , 170.26489176,\n",
       "       164.04768266, 168.63579281, 167.0096199 , 167.80653039,\n",
       "       169.46893043, 167.98999752, 167.73091053, 165.96133187,\n",
       "       170.67279151, 171.69945909, 170.64120324, 170.60618359,\n",
       "       168.20569365, 174.84080758, 167.73140615, 170.42908103,\n",
       "       168.23675172, 167.98123272, 165.98222933, 169.18997979,\n",
       "       167.98866976, 172.05433615, 170.51747691, 171.0406844 ,\n",
       "       170.11026733, 172.70953762, 167.31872378, 167.30043133,\n",
       "       163.27033676, 167.56309067, 171.43124189, 162.58477656,\n",
       "       170.06247659, 175.26691139, 169.8864425 , 172.87250031,\n",
       "       169.05000797, 165.17543489, 170.32276964, 170.21421223,\n",
       "       175.06192046, 168.95630688, 165.5001885 , 175.77432738,\n",
       "       174.83583164, 172.69096982, 170.77846016, 171.80094067,\n",
       "       171.91485893, 167.98167631, 166.46585726, 171.91192313,\n",
       "       171.46055295, 167.46448334, 173.78573878, 176.60115794,\n",
       "       164.97265205, 171.29557504, 167.9336154 , 170.31101873,\n",
       "       169.4576822 , 174.80085273, 171.55316338, 165.78834502,\n",
       "       167.13959613, 167.90919273, 168.96705111, 175.35777167,\n",
       "       171.49339086, 169.55352901, 169.29279456, 169.0906621 ,\n",
       "       173.60052566, 170.55772196, 167.72132365, 169.35995896,\n",
       "       169.76841977, 174.40512721, 173.56661072, 165.75232177,\n",
       "       177.46127719, 170.96333018, 173.3971948 , 167.85480077,\n",
       "       169.77661585, 174.37067096, 166.3803696 , 167.60549195,\n",
       "       171.5055521 , 172.20040588, 173.10333659, 166.13935653,\n",
       "       174.04730265, 171.64520033, 166.21276719, 169.11709767,\n",
       "       171.46533748, 168.14434152, 170.10820266, 170.18792765,\n",
       "       170.70778892, 166.66772342, 171.62995029, 169.49756629,\n",
       "       171.60216731, 170.50940263, 169.20173474, 171.79739146,\n",
       "       168.9783831 , 174.93450943, 173.78982382, 167.80580012,\n",
       "       173.52410753, 172.83200291, 169.01102318, 174.2189276 ,\n",
       "       174.75778658, 173.9197195 , 165.48368355, 168.96492947,\n",
       "       173.02219337, 164.80747002, 170.44381882, 169.80885389,\n",
       "       170.30899798, 170.37010453, 171.17388156, 169.59626303,\n",
       "       175.81429879, 173.08185787, 171.05415895, 171.95388664,\n",
       "       168.05165838, 169.89020812, 172.83726741, 170.59814225,\n",
       "       171.85203714, 174.10351982, 167.60007466, 171.84823676,\n",
       "       168.59753213, 168.67439917, 173.60173438, 168.98033652,\n",
       "       166.7282267 , 173.63213831, 168.71657915, 170.58410245,\n",
       "       170.04898   , 171.86211767, 170.95089656, 169.3256665 ,\n",
       "       170.7471072 , 169.63841252, 167.61817124, 174.02296455,\n",
       "       170.19332141, 170.28498173, 169.25454066, 166.78602014,\n",
       "       172.0662692 , 167.52636329, 165.3343509 , 173.80075683,\n",
       "       172.08336111, 166.33143367, 166.20159175, 179.29532182,\n",
       "       170.78271118, 168.14759456, 169.12598668, 175.47770385,\n",
       "       164.33395956, 171.51873076, 170.86078183, 173.07895138,\n",
       "       166.71949531, 171.90235436, 173.89712417, 171.89836807,\n",
       "       171.83615416, 166.00228564, 167.99422693, 170.77367055,\n",
       "       173.57346475, 166.74791725, 175.93950864, 172.93419943,\n",
       "       171.43094672, 164.38227725, 168.67641883, 170.4420571 ,\n",
       "       171.76799679, 171.2163735 , 173.26263146, 170.81610877,\n",
       "       166.91012579, 172.77501635, 168.65660601, 171.55194105,\n",
       "       169.08629637, 166.06587073, 168.3325111 , 172.41663096,\n",
       "       165.9991141 , 170.09510681, 163.49416165, 173.01612959,\n",
       "       172.41268314, 169.15491591, 170.81181001, 168.30648281,\n",
       "       172.28874764, 170.26060619, 168.30944633, 162.34406099,\n",
       "       166.45143168, 166.20650283, 170.57596173, 171.1975115 ,\n",
       "       167.86290965, 177.44313743, 168.05500944, 166.12021658,\n",
       "       170.04919231, 174.08945705, 172.02498573, 165.89500813,\n",
       "       172.64976421, 167.93411229, 166.46110445, 165.86129754,\n",
       "       170.00609558, 171.90320338, 177.74976488, 172.24327627,\n",
       "       167.87885713, 173.61629237, 173.52121258, 167.29896943,\n",
       "       170.72394539, 167.77358521, 174.98845839, 167.02106919,\n",
       "       171.71670813, 169.13051427, 170.94344412, 170.37709868,\n",
       "       171.86411564, 164.43125425, 172.41717785, 171.19280395,\n",
       "       172.86493506, 166.67205039, 174.11299457, 166.76334929,\n",
       "       171.25430854, 173.72832331, 167.46247198, 175.99805633,\n",
       "       173.39475093, 167.87451126, 168.327228  , 168.41019696,\n",
       "       170.07712622, 165.19141249, 170.26608733, 169.31618994,\n",
       "       170.2257025 , 170.10830232, 167.763688  , 174.86347703,\n",
       "       168.36884626, 168.40536303, 172.09425215, 172.94355508,\n",
       "       168.92778583, 166.03637946, 171.45036815, 172.16075942,\n",
       "       172.06067984, 166.18542023, 167.03159902, 168.34013398,\n",
       "       170.12800448, 172.46028823, 169.78158723, 167.12609256,\n",
       "       172.72432567, 171.81888846, 172.13887876, 170.52486711,\n",
       "       167.64779171, 167.53286835, 164.88016913, 174.30925626,\n",
       "       172.38298813, 175.76422618, 165.8007373 , 169.64403683,\n",
       "       165.76854831, 173.35807286, 167.25709118, 167.74049162,\n",
       "       171.50263467, 171.21592004, 163.80232951, 172.3503278 ,\n",
       "       164.54227051, 170.05218212, 168.77385038, 168.43053283,\n",
       "       165.92954788, 175.09932723, 171.40886419, 168.60591916,\n",
       "       166.74986518, 169.04411488, 168.75038054, 171.37498641,\n",
       "       168.01643314, 172.77632119, 171.44470599, 172.90025841,\n",
       "       173.11594899, 166.20081808, 170.99312826, 165.66427259,\n",
       "       174.18251549, 172.38273595, 175.78917533, 169.68526731,\n",
       "       173.96858559, 169.5457895 , 169.59140119, 172.99357224,\n",
       "       169.51562371, 170.28307089, 167.71567802, 169.79513867,\n",
       "       174.02824279, 168.44978749, 166.04492167, 169.59193012,\n",
       "       175.07166089, 172.53130574, 170.00959373, 169.30985809,\n",
       "       168.08691194, 174.22950709, 171.18815153, 174.36148606,\n",
       "       168.95029823, 171.73434872, 168.05184862, 167.54509555,\n",
       "       170.88821029, 172.34310903, 171.86941773, 172.89196783,\n",
       "       173.28567055, 166.05594502, 168.47581407, 169.7683946 ,\n",
       "       163.42719906, 166.04471485, 169.67078079, 169.12268678,\n",
       "       168.89110841, 164.22918517, 178.3650308 , 167.59406533,\n",
       "       170.42019598, 170.82551438, 170.04242722, 168.63681986,\n",
       "       168.13417273, 174.25426877, 171.76762279, 170.18312957,\n",
       "       165.74052695, 171.0960395 , 169.60097781, 168.23397847,\n",
       "       170.60499809, 170.41953641, 167.19903871, 167.64216942,\n",
       "       171.64457786, 168.07505488, 166.58897928, 169.18858256,\n",
       "       170.14565014, 166.68599115, 167.43117538, 168.04520048,\n",
       "       170.80703305, 166.27421155, 169.09157339, 174.78971882,\n",
       "       170.39685037, 167.93369888, 173.16876719, 168.89954731,\n",
       "       167.83207322, 169.75689841, 171.3260894 , 171.5045633 ,\n",
       "       170.39958535, 174.51866559, 174.03252912, 174.0417295 ,\n",
       "       170.18121873, 168.28252776, 166.26005973, 168.44817704,\n",
       "       169.65156344, 172.58335185, 166.30236069, 167.01276457,\n",
       "       178.97324587, 169.4249613 , 171.08784441, 164.39116051,\n",
       "       171.60130572, 174.60288631, 162.86955998, 169.38238623,\n",
       "       176.20279879, 170.38994149, 166.0001063 , 166.69826859,\n",
       "       166.22498123, 166.36193418, 167.68067123, 167.26907327,\n",
       "       167.42258501, 170.91221809, 166.91557991, 170.41210524,\n",
       "       174.020512  , 172.1830686 , 166.81062631, 171.22778657,\n",
       "       171.72158288, 163.9081682 , 167.72242441, 169.21013283,\n",
       "       168.1325365 , 166.70172128, 163.88450444, 173.60305749,\n",
       "       168.93957281, 165.48674962, 167.92906   , 170.00072732,\n",
       "       174.38135952, 167.32472035, 168.78668255, 168.8311537 ,\n",
       "       171.55042954, 169.60502437, 170.57113532, 170.57391853,\n",
       "       175.94725193, 172.0035229 , 166.33860363, 173.68863173,\n",
       "       167.57923658, 169.53587633, 166.60659576, 174.43441977,\n",
       "       165.15851006, 168.30717904, 169.96137443, 172.85325411,\n",
       "       172.30674675, 170.60623139, 173.64279866, 172.73335655,\n",
       "       166.26498738, 170.98236138, 167.37531672, 171.48180241,\n",
       "       166.0881774 , 173.48916856, 169.2705267 , 163.4744253 ,\n",
       "       171.43417083, 170.28708206, 167.11117725, 168.20957587,\n",
       "       167.61683143, 161.8418812 , 170.36153989, 170.3482911 ,\n",
       "       171.37737433, 169.68301613, 168.56221732, 171.51305589,\n",
       "       169.06391098, 175.21382936, 174.22304335, 167.57416752,\n",
       "       167.35614981, 165.80324889, 169.52843193, 171.94769127,\n",
       "       170.41011899, 173.95375387, 169.56223673, 171.11343117,\n",
       "       166.2376441 , 166.70306414, 174.50633126, 168.40005967,\n",
       "       168.82021562, 172.64923163, 169.8652557 , 172.21964287,\n",
       "       173.37366232, 171.12059572, 166.47853747, 173.23472344,\n",
       "       166.39273892, 166.07430359, 173.12140418, 167.32225278,\n",
       "       173.37209901, 169.15578148, 167.34794815, 171.74835278,\n",
       "       169.56544919, 169.29715305, 168.31972073, 171.60303957,\n",
       "       167.27541761, 170.29594955, 170.8310905 , 165.51004847,\n",
       "       172.55155361, 172.02143528, 164.21240285, 174.98629674,\n",
       "       167.83669305, 168.62364841, 166.12986682, 174.36236974,\n",
       "       171.05062067, 170.81039539, 168.37234118, 166.19480377,\n",
       "       169.3701158 , 167.17521862, 170.28287387, 173.32767557,\n",
       "       167.89375165, 165.05275726, 167.56836109, 167.85265266,\n",
       "       166.13519765, 169.88460098, 170.55694965, 174.61045217,\n",
       "       168.54430807, 167.54783377, 171.37540208, 165.72972642,\n",
       "       170.79042142, 166.20387304, 167.38821535, 167.6757786 ,\n",
       "       168.42387918, 174.70401663, 163.69971759, 170.68605644,\n",
       "       167.08594253, 175.9664331 , 173.05056837, 171.65557572,\n",
       "       166.95040096, 164.67762049, 167.92607755, 170.20759863,\n",
       "       170.28804838, 168.65590182, 169.79117882, 169.97039275,\n",
       "       167.16489128, 167.77571384, 168.32175039, 164.13056221,\n",
       "       172.24037923, 165.04963759, 174.10594549, 169.66841719,\n",
       "       168.7495067 , 168.11799276, 168.98758578, 169.83742513,\n",
       "       176.48169133, 167.44707554, 172.65051433, 164.0480381 ,\n",
       "       165.62806424, 171.82485591, 167.22108455, 171.29583399,\n",
       "       171.94408542, 172.12621651, 173.19066833, 169.88081642,\n",
       "       168.464612  , 176.40418586, 169.15578074, 163.83210485,\n",
       "       172.50035402, 165.84329448, 173.23557819, 172.60984137,\n",
       "       171.21477359, 167.32709204, 166.36195686, 166.52591022,\n",
       "       172.30989892, 165.15722174, 170.26542647, 167.73029652,\n",
       "       175.53609203, 168.88851745, 170.31810081, 168.70702717,\n",
       "       173.08743468, 171.16935574, 170.44869016, 166.54765375,\n",
       "       174.12945014, 169.1284716 , 165.85536122, 172.48844888,\n",
       "       168.04014603, 166.64013709, 167.71853267, 170.8166849 ,\n",
       "       166.11654314, 168.45665376, 173.01812405, 170.2949572 ,\n",
       "       170.3618298 , 169.14877209, 172.3165892 , 171.35580613,\n",
       "       172.38750968, 176.65049356, 165.65122705, 171.02533398,\n",
       "       170.99965551, 169.90353364, 171.76205441, 175.48961955,\n",
       "       171.47624865, 173.94503681, 169.37636905, 170.49623016,\n",
       "       174.0135565 , 172.43148225, 170.06454691, 169.10280596,\n",
       "       174.47020152, 171.72052261, 170.08409643, 172.60694643,\n",
       "       166.38513148, 166.41710888, 164.72572834, 174.02130828,\n",
       "       170.98112877, 174.85436611, 170.33470066, 169.79510354,\n",
       "       170.36848415, 167.49450563, 168.56846346, 169.37161275,\n",
       "       173.32673254, 168.35917487, 168.67898579, 169.39348615,\n",
       "       169.58338   , 167.21375369, 167.42666807, 170.89411929,\n",
       "       171.46902095, 176.11022786, 171.69508902, 168.29100554,\n",
       "       163.55421212, 165.80101267, 165.28262165, 169.82463637,\n",
       "       170.33686752, 165.93949086, 173.70723546, 168.05295854,\n",
       "       173.10075251, 174.17524436, 165.90529236, 169.96744109,\n",
       "       168.71394681, 170.32550721, 169.22070874, 170.86736816,\n",
       "       170.66240735, 170.13293149, 169.70087078, 173.08453989,\n",
       "       170.18525721, 167.39720386, 168.25845878, 170.4474592 ,\n",
       "       162.28348348, 168.93418374, 169.94699312, 169.99321601,\n",
       "       169.97204301, 164.27888037, 170.55332395, 167.49672783,\n",
       "       169.27082633, 165.13488109, 167.59509935, 165.96433104,\n",
       "       170.22971621, 167.77336718, 173.47023674, 166.8425884 ,\n",
       "       168.16501842, 167.22133115, 172.96244034, 171.34310713,\n",
       "       168.92087146, 177.95905172, 168.27836593, 161.30256575,\n",
       "       167.17350449, 165.52454335, 170.27600218, 169.81140937,\n",
       "       173.36512242, 168.31986732, 169.86848552, 168.54128088,\n",
       "       170.86021206, 167.50521467, 170.17200559, 170.8153563 ,\n",
       "       169.63087359, 169.96880602, 170.78117043, 170.66091544,\n",
       "       171.02534671, 168.5651936 , 167.27497843, 172.18372976,\n",
       "       172.92006875, 170.41256427, 169.52507815, 170.15960344,\n",
       "       166.02299503, 178.72986847, 165.83128169, 172.52026794,\n",
       "       174.54295748, 169.32462503, 170.26417529, 173.09959073,\n",
       "       167.47884972, 171.51842743, 168.45497335, 172.0209616 ,\n",
       "       171.21503291, 166.83275942, 172.2142002 , 170.03161312,\n",
       "       170.5613991 , 169.66373865, 168.5587983 , 175.43541957,\n",
       "       171.34319817, 171.04704496, 171.8941734 , 170.90817175,\n",
       "       169.68170573, 169.07663378, 167.59499208, 171.3325866 ,\n",
       "       164.84938565, 168.57661051, 169.53950166, 174.86736845,\n",
       "       171.74677742, 170.73117043, 170.63245348, 169.34732592,\n",
       "       170.58907741, 169.60372428, 168.81352877, 174.47735924,\n",
       "       171.96813903, 173.87721814, 165.0368142 , 173.69679243,\n",
       "       170.9269783 , 168.81860729, 169.87923045, 173.63934392,\n",
       "       174.77800171, 174.23250607, 161.97049527, 166.65332689,\n",
       "       176.21061169, 167.68755255, 171.98039443, 172.5033378 ,\n",
       "       173.2356014 , 168.195182  , 168.34681366, 165.11922408,\n",
       "       166.94339726, 169.02897646, 169.6161204 , 174.58412769,\n",
       "       166.9001533 , 169.02842177, 173.67028742, 169.02943144,\n",
       "       169.07080241, 171.94057576, 170.87100191, 166.48491543,\n",
       "       172.10915055, 168.69766526, 172.25880104, 173.42712726,\n",
       "       171.60136028, 173.15083205, 165.48139543, 169.48594313,\n",
       "       171.50798563, 169.21637386, 172.01132721, 168.14693348,\n",
       "       166.31909765, 170.69775271, 169.24776367, 166.91338052,\n",
       "       171.86105531, 168.70269536, 171.34488618, 168.74354183,\n",
       "       167.90944686, 174.47555737, 168.70448745, 168.08659237,\n",
       "       166.56114715, 169.54014299, 163.74963429, 170.76653793,\n",
       "       168.06719076, 171.81073304, 169.5791256 , 170.26367545,\n",
       "       169.14972996, 171.05091039, 170.75772744, 174.71554526,\n",
       "       175.78877585, 171.05120938, 170.03465223, 169.45646043,\n",
       "       166.86751948, 173.05347363, 173.42692494, 165.13772853,\n",
       "       171.82718423, 167.46309801, 168.71285594, 168.74101955,\n",
       "       177.48019504, 169.47460069, 172.90051963, 165.33333551,\n",
       "       166.28686751, 167.89260732, 168.58465071, 170.10889212,\n",
       "       165.03390085, 166.81248554, 172.51098486, 171.93444128,\n",
       "       164.46953738, 167.15985953, 170.6190663 , 169.80190853,\n",
       "       163.91097706, 171.18737573, 169.62717044, 172.33044513,\n",
       "       166.94696935, 175.551874  , 172.11745054, 172.12639925,\n",
       "       168.34704451, 173.52407653, 163.69680919, 167.50194189,\n",
       "       169.59279284, 171.22415945, 168.26582716, 172.35800527,\n",
       "       166.71315255, 172.13803482, 176.30621695, 166.69399307,\n",
       "       163.31632899, 166.43501635, 169.16628767, 173.50689917,\n",
       "       168.61143576, 167.73230065, 169.19832745, 175.02788891,\n",
       "       171.9619952 , 170.62894648, 169.37479951, 174.26968983,\n",
       "       173.45145382, 169.24055023, 167.6891527 , 170.89401302,\n",
       "       167.16315482, 170.25738137, 170.40982299, 172.85151982,\n",
       "       167.30906825, 172.48704529, 169.62413575, 172.46758629,\n",
       "       166.76602902, 169.90387941, 167.61285906, 169.15057982,\n",
       "       176.40994962, 168.77923019, 170.30413617, 165.66923704,\n",
       "       167.47478814, 164.53673719, 168.71874229, 166.18824882,\n",
       "       171.21826194, 166.79015218, 172.51581512, 166.86793637,\n",
       "       167.01435532, 171.65030052, 170.78318058, 164.96957688,\n",
       "       165.18983381, 172.02174987, 170.19605865, 166.63333619,\n",
       "       166.09031565, 167.7978674 , 170.63819356, 168.89899031,\n",
       "       173.22351169, 168.48836291, 165.04877455, 170.51345094,\n",
       "       168.48391457, 173.1275158 , 167.01461808, 168.70954618,\n",
       "       167.71240221, 175.41769515, 172.80915509, 170.6081631 ,\n",
       "       165.33840682, 163.98579361, 169.41574308, 170.53940903,\n",
       "       169.04533464, 171.16978586, 169.72033902, 166.96338224])"
      ]
     },
     "execution_count": 116,
     "metadata": {},
     "output_type": "execute_result"
    }
   ],
   "source": [
    "# normal distribution (mean, std)\n",
    "height = np.random.normal(170, 3, 1000)\n",
    "height"
   ]
  },
  {
   "cell_type": "code",
   "execution_count": 117,
   "metadata": {},
   "outputs": [
    {
     "data": {
      "text/plain": [
       "(array([  4.,   8.,  45., 136., 238., 253., 195.,  98.,  19.,   4.]),\n",
       " array([159.20327826, 161.22170125, 163.24012424, 165.25854723,\n",
       "        167.27697022, 169.29539321, 171.3138162 , 173.3322392 ,\n",
       "        175.35066219, 177.36908518, 179.38750817]),\n",
       " <a list of 10 Patch objects>)"
      ]
     },
     "execution_count": 117,
     "metadata": {},
     "output_type": "execute_result"
    },
    {
     "data": {
      "image/png": "[encoded data removed]",
      "text/plain": [
       "<Figure size 432x288 with 1 Axes>"
      ]
     },
     "metadata": {
      "image/png": {
       "height": 248,
       "width": 383
      },
      "needs_background": "light"
     },
     "output_type": "display_data"
    }
   ],
   "source": [
    "plt.hist(np.random.normal(170, 3, 1000))"
   ]
  },
  {
   "cell_type": "code",
   "execution_count": 118,
   "metadata": {},
   "outputs": [
    {
     "data": {
      "text/plain": [
       "169.85915665843902"
      ]
     },
     "execution_count": 118,
     "metadata": {},
     "output_type": "execute_result"
    }
   ],
   "source": [
    "np.mean(height)"
   ]
  },
  {
   "cell_type": "code",
   "execution_count": 121,
   "metadata": {},
   "outputs": [
    {
     "data": {
      "text/plain": [
       "2.9714391507913906"
      ]
     },
     "execution_count": 121,
     "metadata": {},
     "output_type": "execute_result"
    }
   ],
   "source": [
    "np.std(height)"
   ]
  },
  {
   "cell_type": "code",
   "execution_count": 122,
   "metadata": {},
   "outputs": [],
   "source": [
    "## Solve math sqiuation"
   ]
  },
  {
   "cell_type": "code",
   "execution_count": 123,
   "metadata": {},
   "outputs": [
    {
     "data": {
      "text/plain": [
       "array([[1, 1],\n",
       "       [1, 5]])"
      ]
     },
     "execution_count": 123,
     "metadata": {},
     "output_type": "execute_result"
    }
   ],
   "source": [
    "# a + y = 90\n",
    "# x + 5y = 250\n",
    "a = np.array([[1, 1], [1, 5]])\n",
    "a"
   ]
  },
  {
   "cell_type": "code",
   "execution_count": 126,
   "metadata": {},
   "outputs": [
    {
     "data": {
      "text/plain": [
       "array([[ 90],\n",
       "       [250]])"
      ]
     },
     "execution_count": 126,
     "metadata": {},
     "output_type": "execute_result"
    }
   ],
   "source": [
    "b = np.array([[90], [250]])\n",
    "b"
   ]
  },
  {
   "cell_type": "code",
   "execution_count": 128,
   "metadata": {},
   "outputs": [
    {
     "data": {
      "text/plain": [
       "array([[ 1.25, -0.25],\n",
       "       [-0.25,  0.25]])"
      ]
     },
     "execution_count": 128,
     "metadata": {},
     "output_type": "execute_result"
    }
   ],
   "source": [
    "# inver of matrix \n",
    "aI = np.linalg.inv(a) #linalg = linear Algebra\n",
    "aI"
   ]
  },
  {
   "cell_type": "code",
   "execution_count": 129,
   "metadata": {},
   "outputs": [
    {
     "data": {
      "text/plain": [
       "array([[112.5, -22.5],\n",
       "       [-62.5,  62.5]])"
      ]
     },
     "execution_count": 129,
     "metadata": {},
     "output_type": "execute_result"
    }
   ],
   "source": [
    "aI * b"
   ]
  },
  {
   "cell_type": "code",
   "execution_count": 131,
   "metadata": {},
   "outputs": [
    {
     "data": {
      "text/plain": [
       "array([[50.],\n",
       "       [40.]])"
      ]
     },
     "execution_count": 131,
     "metadata": {},
     "output_type": "execute_result"
    }
   ],
   "source": [
    "c = np.dot(aI, b)\n",
    "c"
   ]
  },
  {
   "cell_type": "code",
   "execution_count": 132,
   "metadata": {},
   "outputs": [
    {
     "data": {
      "text/plain": [
       "array([[50.],\n",
       "       [40.]])"
      ]
     },
     "execution_count": 132,
     "metadata": {},
     "output_type": "execute_result"
    }
   ],
   "source": [
    "c1 = aI @ b\n",
    "c1"
   ]
  },
  {
   "cell_type": "markdown",
   "metadata": {},
   "source": [
    "## Matrix"
   ]
  },
  {
   "cell_type": "code",
   "execution_count": 134,
   "metadata": {},
   "outputs": [
    {
     "data": {
      "text/plain": [
       "matrix([[1, 1],\n",
       "        [1, 5]])"
      ]
     },
     "execution_count": 134,
     "metadata": {},
     "output_type": "execute_result"
    }
   ],
   "source": [
    "A = np.matrix([[1, 1], [1, 5]])\n",
    "A"
   ]
  },
  {
   "cell_type": "code",
   "execution_count": 135,
   "metadata": {},
   "outputs": [
    {
     "data": {
      "text/plain": [
       "matrix([[ 90],\n",
       "        [250]])"
      ]
     },
     "execution_count": 135,
     "metadata": {},
     "output_type": "execute_result"
    }
   ],
   "source": [
    "B = np.matrix([[90], [250]])\n",
    "B"
   ]
  },
  {
   "cell_type": "code",
   "execution_count": 136,
   "metadata": {},
   "outputs": [
    {
     "data": {
      "text/plain": [
       "matrix([[ 1.25, -0.25],\n",
       "        [-0.25,  0.25]])"
      ]
     },
     "execution_count": 136,
     "metadata": {},
     "output_type": "execute_result"
    }
   ],
   "source": [
    "AI = A.I\n",
    "AI"
   ]
  },
  {
   "cell_type": "code",
   "execution_count": 138,
   "metadata": {},
   "outputs": [
    {
     "data": {
      "text/plain": [
       "matrix([[50.],\n",
       "        [40.]])"
      ]
     },
     "execution_count": 138,
     "metadata": {},
     "output_type": "execute_result"
    }
   ],
   "source": [
    "C = AI * B \n",
    "C"
   ]
  },
  {
   "cell_type": "code",
   "execution_count": null,
   "metadata": {},
   "outputs": [],
   "source": []
  }
 ],
 "metadata": {
  "kernelspec": {
   "display_name": "Python 3",
   "language": "python",
   "name": "python3"
  },
  "language_info": {
   "codemirror_mode": {
    "name": "ipython",
    "version": 3
   },
   "file_extension": ".py",
   "mimetype": "text/x-python",
   "name": "python",
   "nbconvert_exporter": "python",
   "pygments_lexer": "ipython3",
   "version": "3.8.10"
  }
 },
 "nbformat": 4,
 "nbformat_minor": 4
}
