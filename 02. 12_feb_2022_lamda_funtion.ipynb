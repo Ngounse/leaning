{
 "cells": [
  {
   "cell_type": "code",
   "execution_count": 6,
   "metadata": {},
   "outputs": [
    {
     "name": "stdout",
     "output_type": "stream",
     "text": [
      "1350\n",
      "1350\n"
     ]
    }
   ],
   "source": [
    "def area_rectang(w, h):\n",
    "    return w * h\n",
    "\n",
    "x = lambda w,h:w*h\n",
    "\n",
    "print(area_rectang(45, 30))\n",
    "print(x(45, 30))"
   ]
  },
  {
   "cell_type": "code",
   "execution_count": 17,
   "metadata": {},
   "outputs": [
    {
     "name": "stdout",
     "output_type": "stream",
     "text": [
      "50.00 C°\n"
     ]
    }
   ],
   "source": [
    "# celsius to fahrenheit\n",
    "def celsius_to_fahrenheit(cel):\n",
    "    return ( cel * 9 / 5 ) + 32\n",
    "\n",
    "cel_to_f = lambda cel:( cel * 9 / 5 ) + 32\n",
    "\n",
    "print(f'{cel_to_f(10):.02f} C°')"
   ]
  },
  {
   "cell_type": "code",
   "execution_count": 19,
   "metadata": {},
   "outputs": [
    {
     "name": "stdout",
     "output_type": "stream",
     "text": [
      "10.00 F°\n"
     ]
    }
   ],
   "source": [
    "# fahrenheit to celsius\n",
    "def fahrenheit_to_celsius(f):\n",
    "    return ( f - 32) * 5 / 9 \n",
    "\n",
    "f_to_cel = lambda f:( f - 32) * 5 / 9\n",
    "\n",
    "print(f'{f_to_cel(50):.02f} F°')"
   ]
  },
  {
   "cell_type": "code",
   "execution_count": 23,
   "metadata": {},
   "outputs": [
    {
     "name": "stdout",
     "output_type": "stream",
     "text": [
      " Welcome to temperature converion progarm \n",
      " 1. celsius to fahrenheit \n",
      " 2. fahrenheit to celsius\n"
     ]
    },
    {
     "name": "stdout",
     "output_type": "stream",
     "text": [
      "Enter choice :  1\n",
      "Enter celsius degree :  10\n"
     ]
    },
    {
     "name": "stdout",
     "output_type": "stream",
     "text": [
      "The fahrenheit dergree at 10.0 celsius degree is : 50.0 C°\n"
     ]
    }
   ],
   "source": [
    "cel_to_f = lambda cel:( cel * 9 / 5 ) + 32\n",
    "f_to_cel = lambda f:( f - 32) * 5 / 9\n",
    "\n",
    "print(\" Welcome to temperature converion progarm \\n 1. celsius to fahrenheit \\n 2. fahrenheit to celsius\" )\n",
    "x = int(input(\"Enter choice : \"factoriyal\n",
    "if x == 1:\n",
    "    f = float(input(\"Enter celsius degree : \"))\n",
    "    cel = cel_to_f(f)\n",
    "    print(f\"The fahrenheit dergree at {f} celsius degree is : {cel} C°\")\n",
    "elif x == 2:\n",
    "    cel = float(input(\"Enter fahrenheit degree : \"))\n",
    "    f = f_to_cel(cel)\n",
    "    print(f\"The celsius dergree at {cel} fahrenheit degree is : {f}  F°\")\n",
    "else:\n",
    "    pass"
   ]
  },
  {
   "cell_type": "code",
   "execution_count": 26,
   "metadata": {},
   "outputs": [
    {
     "name": "stdout",
     "output_type": "stream",
     "text": [
      "6\n"
     ]
    }
   ],
   "source": [
    "# 0!=1!1\n",
    "\n",
    "# n<0 (error)\n",
    "# n=0 1\n",
    "# n>0 n*factory(n-1)\n",
    "def factoriyal(n):\n",
    "    if n<0:\n",
    "        n = 'error'\n",
    "        return n\n",
    "    elif n==0:\n",
    "        n = 1\n",
    "        return n\n",
    "    else:\n",
    "        n = n*factoriyal(n-1)\n",
    "    return n\n",
    "\n",
    "print(factoriyal(3))"
   ]
  },
  {
   "cell_type": "code",
   "execution_count": 33,
   "metadata": {},
   "outputs": [
    {
     "name": "stdout",
     "output_type": "stream",
     "text": [
      "-10\n",
      "-9\n",
      "-8\n",
      "-7\n",
      "-6\n",
      "-5\n",
      "-4\n",
      "-3\n",
      "-2\n",
      "-1\n",
      "0\n"
     ]
    }
   ],
   "source": [
    "def countdown(n):\n",
    "    if n<0:\n",
    "        print(n)\n",
    "        n = countdown(n+1)\n",
    "        return n\n",
    "    elif n>0:\n",
    "        print(n)\n",
    "        n = countdown(n-1)\n",
    "        return n\n",
    "    else:\n",
    "        return 0\n",
    "    \n",
    "print(countdown(-10))"
   ]
  },
  {
   "cell_type": "markdown",
   "metadata": {},
   "source": [
    "### Data structure\n",
    "1. list\n",
    "2. tuple\n",
    "3. set\n",
    "4. dictionary"
   ]
  },
  {
   "cell_type": "code",
   "execution_count": 35,
   "metadata": {},
   "outputs": [
    {
     "name": "stdout",
     "output_type": "stream",
     "text": [
      "23\n",
      "cambodia\n"
     ]
    }
   ],
   "source": [
    "arr = [23, 'cambodia', 0, 36.89]\n",
    "print(arr[0])\n",
    "print(arr[1])"
   ]
  },
  {
   "cell_type": "code",
   "execution_count": 69,
   "metadata": {},
   "outputs": [
    {
     "name": "stdout",
     "output_type": "stream",
     "text": [
      "['Cambodia', 'Thailand', 'Malaysia', 'Japan', 'Brunei']\n"
     ]
    }
   ],
   "source": [
    "contry = ['Cambodia', 'Thailand', 'Malaysia', 'Japan', 'Brunei']\n",
    "print(contry)"
   ]
  },
  {
   "cell_type": "code",
   "execution_count": 70,
   "metadata": {},
   "outputs": [
    {
     "name": "stdout",
     "output_type": "stream",
     "text": [
      "Malaysia\n"
     ]
    }
   ],
   "source": [
    "print(contry[-3])"
   ]
  },
  {
   "cell_type": "code",
   "execution_count": 71,
   "metadata": {},
   "outputs": [
    {
     "name": "stdout",
     "output_type": "stream",
     "text": [
      "['Cambodia', 'Thailand', 'Malaysia']\n"
     ]
    }
   ],
   "source": [
    "print(contry[:3])"
   ]
  },
  {
   "cell_type": "code",
   "execution_count": 72,
   "metadata": {},
   "outputs": [
    {
     "name": "stdout",
     "output_type": "stream",
     "text": [
      "['Cambodia', 'Thailand', 'Loar', 'Japan', 'Brunei']\n"
     ]
    }
   ],
   "source": [
    "contry[2] = 'Loar'\n",
    "print(contry)"
   ]
  },
  {
   "cell_type": "code",
   "execution_count": 73,
   "metadata": {},
   "outputs": [
    {
     "name": "stdout",
     "output_type": "stream",
     "text": [
      "['Cambodia', 'Thailand', 'Loar', 'Japan', 'Brunei', 'Malaysia']\n"
     ]
    }
   ],
   "source": [
    "contry.append('Malaysia')\n",
    "print(contry)"
   ]
  },
  {
   "cell_type": "code",
   "execution_count": 74,
   "metadata": {},
   "outputs": [
    {
     "name": "stdout",
     "output_type": "stream",
     "text": [
      "['Cambodia', 'Thailand', 'Loar', 'Korea', 'Japan', 'Brunei', 'Malaysia']\n"
     ]
    }
   ],
   "source": [
    "# insert(index, value)\n",
    "contry.insert(3,'Korea')\n",
    "print(contry)"
   ]
  },
  {
   "cell_type": "code",
   "execution_count": 75,
   "metadata": {},
   "outputs": [
    {
     "name": "stdout",
     "output_type": "stream",
     "text": [
      "['Cambodia', 'Thailand', 'Loar', 'Korea', 'Japan', 'Brunei', 'Malaysia', 'Blue', 'Red', 'Pink', 'Yellow']\n"
     ]
    }
   ],
   "source": [
    "#list concate list \n",
    "color = ['Blue', 'Red', 'Pink', 'Yellow']\n",
    "contry.extend(color)\n",
    "print(contry)"
   ]
  },
  {
   "cell_type": "code",
   "execution_count": 76,
   "metadata": {},
   "outputs": [
    {
     "name": "stdout",
     "output_type": "stream",
     "text": [
      "['Cambodia', 'Thailand', 'Loar', 'Korea', 'Brunei', 'Malaysia', 'Blue', 'Red', 'Pink', 'Yellow']\n"
     ]
    }
   ],
   "source": [
    "contry.remove('Japan')\n",
    "print(contry)"
   ]
  },
  {
   "cell_type": "code",
   "execution_count": 77,
   "metadata": {},
   "outputs": [
    {
     "name": "stdout",
     "output_type": "stream",
     "text": [
      "['Cambodia', 'Loar', 'Korea', 'Brunei', 'Malaysia', 'Blue', 'Red', 'Pink', 'Yellow']\n"
     ]
    }
   ],
   "source": [
    "contry.pop(1)\n",
    "print(contry)"
   ]
  },
  {
   "cell_type": "code",
   "execution_count": 78,
   "metadata": {},
   "outputs": [],
   "source": [
    "#list comprehension"
   ]
  },
  {
   "cell_type": "code",
   "execution_count": 79,
   "metadata": {},
   "outputs": [
    {
     "name": "stdout",
     "output_type": "stream",
     "text": [
      "['Cambodia', 'Loar', 'Korea', 'Brunei', 'Malaysia', 'Blue', 'Red', 'Pink', 'Yellow']\n"
     ]
    }
   ],
   "source": [
    "print(contry)"
   ]
  },
  {
   "cell_type": "code",
   "execution_count": 80,
   "metadata": {},
   "outputs": [
    {
     "name": "stdout",
     "output_type": "stream",
     "text": [
      "['Cambodia', 'Loar', 'Korea', 'Malaysia']\n"
     ]
    }
   ],
   "source": [
    "newlist = []\n",
    "for i in contry:\n",
    "    if 'a' in i:\n",
    "        newlist.append(i)\n",
    "\n",
    "print(newlist)"
   ]
  },
  {
   "cell_type": "code",
   "execution_count": 81,
   "metadata": {},
   "outputs": [
    {
     "name": "stdout",
     "output_type": "stream",
     "text": [
      "['Cambodia', 'Loar', 'Korea', 'Malaysia']\n"
     ]
    }
   ],
   "source": [
    "newlist1 = []\n",
    "for i in range(len(contry)):\n",
    "    if 'a' in contry[i]:\n",
    "        newlist1.append(contry[i])\n",
    "\n",
    "print(newlist1)"
   ]
  },
  {
   "cell_type": "code",
   "execution_count": 87,
   "metadata": {},
   "outputs": [
    {
     "name": "stdout",
     "output_type": "stream",
     "text": [
      "['Brunei', 'Blue', 'Red', 'Pink']\n"
     ]
    }
   ],
   "source": [
    "newlist3 = []\n",
    "for i in contry:\n",
    "    if 'a' not in i and 'o' not in i :\n",
    "        newlist3.append(i)\n",
    "\n",
    "print(newlist3)"
   ]
  },
  {
   "cell_type": "code",
   "execution_count": 89,
   "metadata": {},
   "outputs": [
    {
     "name": "stdout",
     "output_type": "stream",
     "text": [
      "[2, 12, 34, 67, 78, 90, 345]\n"
     ]
    }
   ],
   "source": [
    "#sort \n",
    "a = [34, 78, 2, 90, 345, 67, 12]\n",
    "a.sort()\n",
    "print(a)"
   ]
  },
  {
   "cell_type": "code",
   "execution_count": 90,
   "metadata": {},
   "outputs": [
    {
     "name": "stdout",
     "output_type": "stream",
     "text": [
      "[345, 90, 78, 67, 34, 12, 2]\n"
     ]
    }
   ],
   "source": [
    "a.sort(reverse=True)\n",
    "print(a)"
   ]
  },
  {
   "cell_type": "code",
   "execution_count": 92,
   "metadata": {},
   "outputs": [],
   "source": [
    "#tuple\n",
    "#set\n",
    "#dictionary\n",
    "#python map()\n",
    "#python zip()\n",
    "#python filter()\n",
    "\n"
   ]
  },
  {
   "cell_type": "code",
   "execution_count": null,
   "metadata": {},
   "outputs": [],
   "source": []
  }
 ],
 "metadata": {
  "kernelspec": {
   "display_name": "Python 3",
   "language": "python",
   "name": "python3"
  },
  "language_info": {
   "codemirror_mode": {
    "name": "ipython",
    "version": 3
   },
   "file_extension": ".py",
   "mimetype": "text/x-python",
   "name": "python",
   "nbconvert_exporter": "python",
   "pygments_lexer": "ipython3",
   "version": "3.8.10"
  }
 },
 "nbformat": 4,
 "nbformat_minor": 4
}
