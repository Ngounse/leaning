{
 "cells": [
  {
   "cell_type": "code",
   "execution_count": 1,
   "metadata": {},
   "outputs": [],
   "source": [
    "import numpy as np"
   ]
  },
  {
   "cell_type": "code",
   "execution_count": null,
   "metadata": {},
   "outputs": [
    {
     "data": {
      "text/plain": [
       "array([534, 185, 365, 261, 577, 131, 735, 963, 986, 667, 730, 602, 438,\n",
       "       107, 914, 357, 111, 532, 806, 907, 457, 145, 727, 374, 113, 531,\n",
       "       144, 829, 230, 189, 280, 432, 330, 800, 843, 797, 675, 676, 967,\n",
       "       580, 429, 139, 796, 353, 986, 263, 520, 211, 112, 851, 710, 294,\n",
       "       891, 956, 512, 803, 842, 466, 791, 578, 286, 551, 864, 521, 410,\n",
       "       715, 318, 397, 492, 399, 296, 297, 650, 518, 875, 671, 211, 961,\n",
       "       398, 199, 348, 842, 178, 118, 947, 303, 573, 729, 588, 686, 583,\n",
       "       493, 938, 451, 819, 671, 645, 172, 146, 587])"
      ]
     },
     "execution_count": 2,
     "metadata": {},
     "output_type": "execute_result"
    }
   ],
   "source": [
    "b = np.random.randint(100, 1000, 100)\n",
    "b"
   ]
  },
  {
   "cell_type": "code",
   "execution_count": null,
   "metadata": {},
   "outputs": [],
   "source": [
    "#1. create boolean array to show value of item that divide by 5 and 3\n",
    "#2. create boolean array to show value of item that divide by 2 and 7\n",
    "#3. create boolean array to show value of item that divide by 5 or 7\n",
    "#4. create boolean array to show value of item that divide by 2 or 3\n",
    "#5. from  problem 1 to 4 above create boolean indexing of each problem \n",
    "#6. from  problem 1 to 4 above find index of each problem item value \n",
    "#7. create boolean array that the item has 9 is the last number\n",
    "#8. create boolean array sum of each digint equal to 9 or 7"
   ]
  },
  {
   "cell_type": "code",
   "execution_count": null,
   "metadata": {},
   "outputs": [
    {
     "data": {
      "text/plain": [
       "array([False, False, False, False, False, False,  True, False, False,\n",
       "       False, False, False, False, False, False, False, False, False,\n",
       "       False, False, False, False, False, False, False, False, False,\n",
       "       False, False, False, False, False,  True, False, False, False,\n",
       "        True, False, False, False, False, False, False, False, False,\n",
       "       False, False, False, False, False, False, False, False, False,\n",
       "       False, False, False, False, False, False, False, False, False,\n",
       "       False, False, False, False, False, False, False, False, False,\n",
       "       False, False, False, False, False, False, False, False, False,\n",
       "       False, False, False, False, False, False, False, False, False,\n",
       "       False, False, False, False, False, False,  True, False, False,\n",
       "       False])"
      ]
     },
     "execution_count": 4,
     "metadata": {},
     "output_type": "execute_result"
    }
   ],
   "source": [
    "#1. create boolean array to show value of item that divide by 5 and 3\n",
    "c_3_and_5 = ( b % 3 == 0 ) & ( b % 5 == 0 )\n",
    "c_3_and_5"
   ]
  },
  {
   "cell_type": "code",
   "execution_count": null,
   "metadata": {},
   "outputs": [
    {
     "data": {
      "text/plain": [
       "array([False, False, False, False, False, False, False, False, False,\n",
       "       False, False,  True, False, False, False, False, False,  True,\n",
       "       False, False, False, False, False, False, False, False, False,\n",
       "       False, False, False,  True, False, False, False, False, False,\n",
       "       False, False, False, False, False, False, False, False, False,\n",
       "       False, False, False,  True, False, False,  True, False, False,\n",
       "       False, False, False, False, False, False, False, False, False,\n",
       "       False, False, False, False, False, False, False, False, False,\n",
       "       False,  True, False, False, False, False, False, False, False,\n",
       "       False, False, False, False, False, False, False,  True,  True,\n",
       "       False, False,  True, False, False, False, False, False, False,\n",
       "       False])"
      ]
     },
     "execution_count": 5,
     "metadata": {},
     "output_type": "execute_result"
    }
   ],
   "source": [
    "#2. create boolean array to show value of item that divide by 2 and 7\n",
    "c_2_nad_7 = ( b % 2 == 0 ) & ( b % 7 == 0 )\n",
    "c_2_nad_7"
   ]
  },
  {
   "cell_type": "code",
   "execution_count": null,
   "metadata": {},
   "outputs": [
    {
     "data": {
      "text/plain": [
       "array([False,  True,  True, False, False, False,  True, False, False,\n",
       "       False,  True,  True, False, False, False,  True, False,  True,\n",
       "       False, False, False,  True, False, False, False, False, False,\n",
       "       False,  True,  True,  True, False,  True,  True, False, False,\n",
       "        True, False, False,  True, False, False, False, False, False,\n",
       "       False,  True, False,  True, False,  True,  True, False, False,\n",
       "       False, False, False, False,  True, False, False, False, False,\n",
       "       False,  True,  True, False, False, False,  True, False, False,\n",
       "        True,  True,  True, False, False, False, False, False, False,\n",
       "       False, False, False, False, False, False, False,  True,  True,\n",
       "       False, False,  True, False,  True, False,  True, False, False,\n",
       "       False])"
      ]
     },
     "execution_count": 6,
     "metadata": {},
     "output_type": "execute_result"
    }
   ],
   "source": [
    "#3. create boolean array to show value of item that divide by 5 or 7\n",
    "c_5_or_7 = ( b % 5 == 0 ) | ( b % 7 == 0 )\n",
    "c_5_or_7"
   ]
  },
  {
   "cell_type": "code",
   "execution_count": null,
   "metadata": {},
   "outputs": [
    {
     "data": {
      "text/plain": [
       "array([ True, False, False,  True, False, False,  True,  True,  True,\n",
       "       False,  True,  True,  True, False,  True,  True,  True,  True,\n",
       "        True, False, False, False, False,  True, False,  True,  True,\n",
       "       False,  True,  True,  True,  True,  True,  True,  True, False,\n",
       "        True,  True, False,  True,  True, False,  True, False,  True,\n",
       "       False,  True, False,  True, False,  True,  True,  True,  True,\n",
       "        True, False,  True,  True, False,  True,  True, False,  True,\n",
       "       False,  True, False,  True, False,  True,  True,  True,  True,\n",
       "        True,  True, False, False, False, False,  True, False,  True,\n",
       "        True,  True,  True, False,  True,  True,  True,  True,  True,\n",
       "       False, False,  True, False,  True, False,  True,  True,  True,\n",
       "       False])"
      ]
     },
     "execution_count": 7,
     "metadata": {},
     "output_type": "execute_result"
    }
   ],
   "source": [
    "#4. create boolean array to show value of item that divide by 2 or 3\n",
    "c_2_or_3 = ( b % 2 == 0 ) | ( b % 3 == 0 )\n",
    "c_2_or_3"
   ]
  },
  {
   "cell_type": "code",
   "execution_count": null,
   "metadata": {},
   "outputs": [
    {
     "name": "stdout",
     "output_type": "stream",
     "text": [
      " _________________________________ divide by 3_and_5 _______________________________________________ \n",
      "\n",
      "[735 330 675 645]\n",
      " ___________________________________________________________________________________________________ \n",
      "\n",
      " _________________________________ divide by 2_nad_7 _______________________________________________ \n",
      "\n",
      "[602 532 280 112 294 518 588 686 938]\n",
      " ___________________________________________________________________________________________________ \n",
      "\n",
      " _________________________________ divide by 5_or_7 _______________________________________________ \n",
      "\n",
      "[185 365 735 730 602 357 532 145 230 189 280 330 800 675 580 520 112 710\n",
      " 294 791 410 715 399 650 518 875 588 686 938 819 645]\n",
      " ___________________________________________________________________________________________________ \n",
      "\n",
      " _________________________________ divide by 2_or_3 _______________________________________________ \n",
      "\n",
      "[534 261 735 963 986 730 602 438 914 357 111 532 806 374 531 144 230 189\n",
      " 280 432 330 800 843 675 676 580 429 796 986 520 112 710 294 891 956 512\n",
      " 842 466 578 286 864 410 318 492 399 296 297 650 518 398 348 842 178 118\n",
      " 303 573 729 588 686 938 819 645 172 146]\n",
      " __________________________________________________________________________________________________ \n",
      "\n"
     ]
    }
   ],
   "source": [
    "#5. from  problem 1 to 4 above create boolean indexing of each problem\n",
    "print(' _________________________________ divide by 3_and_5 _______________________________________________ \\n')\n",
    "print(b[c_3_and_5])\n",
    "print(' ___________________________________________________________________________________________________ \\n')\n",
    "print(' _________________________________ divide by 2_nad_7 _______________________________________________ \\n')\n",
    "print(b[c_2_nad_7])\n",
    "print(' ___________________________________________________________________________________________________ \\n')\n",
    "print(' _________________________________ divide by 5_or_7 _______________________________________________ \\n')\n",
    "print( b[c_5_or_7])\n",
    "print(' ___________________________________________________________________________________________________ \\n')\n",
    "print(' _________________________________ divide by 2_or_3 _______________________________________________ \\n')\n",
    "print( b[c_2_or_3])\n",
    "print(' __________________________________________________________________________________________________ \\n')\n"
   ]
  },
  {
   "cell_type": "code",
   "execution_count": null,
   "metadata": {},
   "outputs": [
    {
     "name": "stdout",
     "output_type": "stream",
     "text": [
      " _________________________________ divide by 3_and_5 _______________________________________________ \n",
      "\n",
      "(array([ 6, 32, 36, 96]),)\n",
      " ___________________________________________________________________________________________________ \n",
      "\n",
      " _________________________________ divide by 2_nad_7 _______________________________________________ \n",
      "\n",
      "(array([11, 17, 30, 48, 51, 73, 88, 89, 92]),)\n",
      " ___________________________________________________________________________________________________ \n",
      "\n",
      " _________________________________ divide by 5_or_7 _______________________________________________ \n",
      "\n",
      "(array([ 1,  2,  6, 10, 11, 15, 17, 21, 28, 29, 30, 32, 33, 36, 39, 46, 48,\n",
      "       50, 51, 58, 64, 65, 69, 72, 73, 74, 88, 89, 92, 94, 96]),)\n",
      " ___________________________________________________________________________________________________ \n",
      "\n",
      " _________________________________ divide by 2_or_3 _______________________________________________ \n",
      "\n",
      "(array([ 0,  3,  6,  7,  8, 10, 11, 12, 14, 15, 16, 17, 18, 23, 25, 26, 28,\n",
      "       29, 30, 31, 32, 33, 34, 36, 37, 39, 40, 42, 44, 46, 48, 50, 51, 52,\n",
      "       53, 54, 56, 57, 59, 60, 62, 64, 66, 68, 69, 70, 71, 72, 73, 78, 80,\n",
      "       81, 82, 83, 85, 86, 87, 88, 89, 92, 94, 96, 97, 98]),)\n",
      " ___________________________________________________________________________________________________ \n",
      "\n"
     ]
    }
   ],
   "source": [
    "#6. from  problem 1 to 4 above find index of each problem item value \n",
    "print(' _________________________________ divide by 3_and_5 _______________________________________________ \\n')\n",
    "print(np.where( ( b % 3 == 0 ) & ( b % 5 == 0 ) ) )\n",
    "print(' ___________________________________________________________________________________________________ \\n')\n",
    "print(' _________________________________ divide by 2_nad_7 _______________________________________________ \\n')\n",
    "print(np.where( ( b % 2 == 0 ) & ( b % 7 == 0 ) ) )\n",
    "print(' ___________________________________________________________________________________________________ \\n')\n",
    "print(' _________________________________ divide by 5_or_7 _______________________________________________ \\n')\n",
    "print( np.where( ( b % 5 == 0 ) | ( b % 7 == 0 ) ) )\n",
    "print(' ___________________________________________________________________________________________________ \\n')\n",
    "print(' _________________________________ divide by 2_or_3 _______________________________________________ \\n')\n",
    "print( np.where( ( b % 2 == 0 ) | ( b % 3 == 0 ) ) )\n",
    "print(' ___________________________________________________________________________________________________ \\n')\n"
   ]
  },
  {
   "cell_type": "code",
   "execution_count": null,
   "metadata": {},
   "outputs": [],
   "source": [
    "#7. create boolean array that the item has 9 is the last number\n"
   ]
  },
  {
   "cell_type": "code",
   "execution_count": null,
   "metadata": {},
   "outputs": [
    {
     "ename": "NameError",
     "evalue": "name 'l' is not defined",
     "output_type": "error",
     "traceback": [
      "\u001b[0;31m---------------------------------------------------------------------------\u001b[0m",
      "\u001b[0;31mNameError\u001b[0m                                 Traceback (most recent call last)",
      "\u001b[0;32m<ipython-input-10-b92b42dcf809>\u001b[0m in \u001b[0;36m<module>\u001b[0;34m\u001b[0m\n\u001b[0;32m----> 1\u001b[0;31m \u001b[0mprint\u001b[0m\u001b[0;34m(\u001b[0m\u001b[0mnp\u001b[0m\u001b[0;34m.\u001b[0m\u001b[0mwhere\u001b[0m\u001b[0;34m(\u001b[0m \u001b[0ml\u001b[0m \u001b[0;34m)\u001b[0m\u001b[0;34m)\u001b[0m\u001b[0;34m\u001b[0m\u001b[0;34m\u001b[0m\u001b[0m\n\u001b[0m",
      "\u001b[0;31mNameError\u001b[0m: name 'l' is not defined"
     ]
    }
   ],
   "source": [
    "print(np.where( l ))"
   ]
  },
  {
   "cell_type": "code",
   "execution_count": null,
   "metadata": {},
   "outputs": [
    {
     "ename": "TypeError",
     "evalue": "only integer scalar arrays can be converted to a scalar index",
     "output_type": "error",
     "traceback": [
      "\u001b[0;31m---------------------------------------------------------------------------\u001b[0m",
      "\u001b[0;31mTypeError\u001b[0m                                 Traceback (most recent call last)",
      "\u001b[0;32m<ipython-input-17-952a57b28186>\u001b[0m in \u001b[0;36m<module>\u001b[0;34m\u001b[0m\n\u001b[1;32m      1\u001b[0m \u001b[0ml\u001b[0m \u001b[0;34m=\u001b[0m \u001b[0;34m[\u001b[0m\u001b[0;36m123\u001b[0m\u001b[0;34m,\u001b[0m\u001b[0;36m8678\u001b[0m\u001b[0;34m,\u001b[0m\u001b[0;36m78678\u001b[0m\u001b[0;34m]\u001b[0m\u001b[0;34m\u001b[0m\u001b[0;34m\u001b[0m\u001b[0m\n\u001b[0;32m----> 2\u001b[0;31m \u001b[0ml\u001b[0m\u001b[0;34m[\u001b[0m\u001b[0mnp\u001b[0m\u001b[0;34m.\u001b[0m\u001b[0mwhere\u001b[0m\u001b[0;34m(\u001b[0m\u001b[0ml\u001b[0m\u001b[0;34m)\u001b[0m\u001b[0;34m[\u001b[0m\u001b[0;36m0\u001b[0m\u001b[0;34m]\u001b[0m\u001b[0;34m[\u001b[0m\u001b[0;34m:\u001b[0m\u001b[0;34m-\u001b[0m\u001b[0;36m1\u001b[0m\u001b[0;34m]\u001b[0m\u001b[0;34m]\u001b[0m \u001b[0;34m=\u001b[0m \u001b[0;32mFalse\u001b[0m\u001b[0;34m\u001b[0m\u001b[0;34m\u001b[0m\u001b[0m\n\u001b[0m",
      "\u001b[0;31mTypeError\u001b[0m: only integer scalar arrays can be converted to a scalar index"
     ]
    }
   ],
   "source": [
    " l = [123,8678,78678]\n",
    "len(l)\n",
    " x[np.where(x)[0][:-2]] = False"
   ]
  },
  {
   "cell_type": "code",
   "execution_count": null,
   "metadata": {},
   "outputs": [],
   "source": []
  }
 ],
 "metadata": {
  "kernelspec": {
   "display_name": "Python 3",
   "language": "python",
   "name": "python3"
  },
  "language_info": {
   "codemirror_mode": {
    "name": "ipython",
    "version": 3
   },
   "file_extension": ".py",
   "mimetype": "text/x-python",
   "name": "python",
   "nbconvert_exporter": "python",
   "pygments_lexer": "ipython3",
   "version": "3.8.10"
  }
 },
 "nbformat": 4,
 "nbformat_minor": 4
}
