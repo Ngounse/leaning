{
 "cells": [
  {
   "cell_type": "code",
   "execution_count": 35,
   "metadata": {},
   "outputs": [],
   "source": [
    "## Return funtion\n",
    "### structure:\n",
    "\n",
    "def funtion_name():\n",
    "    code block\n",
    "    return condition"
   ]
  },
  {
   "cell_type": "code",
   "execution_count": 16,
   "metadata": {},
   "outputs": [
    {
     "name": "stdout",
     "output_type": "stream",
     "text": [
      "53\n"
     ]
    }
   ],
   "source": [
    "def sum_2_num(a, b ):\n",
    "    return a + b\n",
    "\n",
    "print(sum_2_num(45, 8))"
   ]
  },
  {
   "cell_type": "code",
   "execution_count": 21,
   "metadata": {},
   "outputs": [
    {
     "name": "stdout",
     "output_type": "stream",
     "text": [
      "25.0\n"
     ]
    }
   ],
   "source": [
    "# triangle\n",
    "def triangle_2_num1(b, h):\n",
    "    num1 = ( b * h ) / 2\n",
    "    return(num1)\n",
    "\n",
    "print(triangle_2_num1(10, 5))"
   ]
  },
  {
   "cell_type": "code",
   "execution_count": 23,
   "metadata": {},
   "outputs": [
    {
     "name": "stdout",
     "output_type": "stream",
     "text": [
      "Welcome to rectangle area\n",
      "input widtg : 10\n",
      "input height : 10\n"
     ]
    },
    {
     "data": {
      "text/plain": [
       "100.0"
      ]
     },
     "execution_count": 23,
     "metadata": {},
     "output_type": "execute_result"
    }
   ],
   "source": [
    "# rectangle\n",
    "def area_rectangle(w, h):\n",
    "    area = w * h\n",
    "    return area\n",
    "\n",
    "print(\"Welcome to rectangle area\")\n",
    "w = float(input(\"input widtg : \"))\n",
    "h = float(input(\"input height : \"))\n",
    "area_rectangle(w, h)"
   ]
  },
  {
   "cell_type": "code",
   "execution_count": 20,
   "metadata": {},
   "outputs": [
    {
     "name": "stdout",
     "output_type": "stream",
     "text": [
      "Welcome to cercle area\n",
      "input Radius : 10\n"
     ]
    },
    {
     "data": {
      "text/plain": [
       "314.0"
      ]
     },
     "execution_count": 20,
     "metadata": {},
     "output_type": "execute_result"
    }
   ],
   "source": [
    "# circle\n",
    "def area_circle(r):\n",
    "    phai = 3.14\n",
    "    a = phai * ( r * r )\n",
    "    \n",
    "    return a\n",
    "\n",
    "print(\"Welcome to cercle area\")\n",
    "r = float(input(\"input Radius : \"))\n",
    "area_circle(r)\n"
   ]
  },
  {
   "cell_type": "code",
   "execution_count": null,
   "metadata": {},
   "outputs": [],
   "source": [
    "# celsius to fahrenheit\n",
    "def celsius_to_fahrenheit(cel):\n",
    "    f = ( cel * 9 / 5 ) + 32\n",
    "    \n",
    "    return f\n",
    "\n",
    "print(\"convert from celsius to fahrenheit\")\n",
    "f = float(input(\"Enter celsius : \"))\n",
    "celsius_to_fahrenheit(f)"
   ]
  },
  {
   "cell_type": "code",
   "execution_count": null,
   "metadata": {},
   "outputs": [],
   "source": [
    "# fahrenheit to celsius\n",
    "def fahrenheit_to_celsius(f):\n",
    "    cel = ( f - 32) * 5 / 9 \n",
    "    \n",
    "    return cel\n",
    "\n",
    "print(\"convert from fahrenheit to celsius\")\n",
    "cel = float(input(\"Enter fahrenheit : \"))\n",
    "fahrenheit_to_celsius(cel)"
   ]
  },
  {
   "cell_type": "code",
   "execution_count": 2,
   "metadata": {},
   "outputs": [
    {
     "name": "stdout",
     "output_type": "stream",
     "text": [
      " Welcome to temperature converion progarm \n",
      " 1. celsius to fahrenheit \n",
      " 2. fahrenheit to celsius\n",
      "Enter choice : 1\n",
      "Enter celsius degree : 67\n",
      "The fahrenheit dergree at 67.0 celsius degree is : 152.6\n"
     ]
    }
   ],
   "source": [
    "# celsius to fahrenheit\n",
    "def celsius_to_fahrenheit(cel):\n",
    "    return ( cel * 9 / 5 ) + 32\n",
    "\n",
    "# fahrenheit to celsius\n",
    "def fahrenheit_to_celsius(f):\n",
    "    return ( f - 32) * 5 / 9 \n",
    "\n",
    "print(\" Welcome to temperature converion progarm \\n 1. celsius to fahrenheit \\n 2. fahrenheit to celsius\" )\n",
    "x = int(input(\"Enter choice : \"))\n",
    "\n",
    "if x == 1:\n",
    "    f = float(input(\"Enter celsius degree : \"))\n",
    "    cel = celsius_to_fahrenheit(f)\n",
    "    print(f\"The fahrenheit dergree at {f} celsius degree is : {cel}\")\n",
    "elif x == 2:\n",
    "    cel = float(input(\"Enter fahrenheit degree : \"))\n",
    "    f = fahrenheit_to_celsius(cel)\n",
    "    print(f\"The celsius dergree at {cel} fahrenheit degree is : {f}\")\n",
    "else:\n",
    "    pass"
   ]
  },
  {
   "cell_type": "code",
   "execution_count": 34,
   "metadata": {},
   "outputs": [
    {
     "name": "stdout",
     "output_type": "stream",
     "text": [
      "19352.82443091153\n"
     ]
    }
   ],
   "source": [
    "# FV\t=\tfuture value\n",
    "# PV\t=\tpresent value\n",
    "# r\t=\tannual interest rate\n",
    "# {n}\t=\tnumber of periods interest held\n",
    "\n",
    "def future_value(pv, r, n):\n",
    "#     FV=PV(1+r)^{n}\n",
    "\n",
    "    fv = pv * ((1 + r )**n)\n",
    "    return fv\n",
    "    \n",
    "print(future_value(10000, 0.045, 15))"
   ]
  },
  {
   "cell_type": "code",
   "execution_count": 37,
   "metadata": {
    "scrolled": true
   },
   "outputs": [
    {
     "name": "stdout",
     "output_type": "stream",
     "text": [
      "year 01 = 10450.000$\n",
      "year 02 = 10920.250$\n",
      "year 03 = 11411.661$\n",
      "year 04 = 11925.186$\n",
      "year 05 = 12461.819$\n",
      "year 06 = 13022.601$\n",
      "year 07 = 13608.618$\n",
      "year 08 = 14221.006$\n",
      "year 09 = 14860.951$\n",
      "year 10 = 15529.694$\n",
      "year 11 = 16228.530$\n",
      "year 12 = 16958.814$\n",
      "year 13 = 17721.961$\n",
      "year 14 = 18519.449$\n",
      "year 15 = 19352.824$\n"
     ]
    },
    {
     "data": {
      "text/plain": [
       "19352.82443091153"
      ]
     },
     "execution_count": 37,
     "metadata": {},
     "output_type": "execute_result"
    }
   ],
   "source": [
    "# FV\t=\tfuture value\n",
    "# PV\t=\tpresent value\n",
    "# r\t=\tannual interest rate\n",
    "# {n}\t=\tnumber of periods interest held\n",
    "\n",
    "def future_value(pv, r, n):\n",
    "#     FV=PV(1+r)^{n}\n",
    "    for x in range(1,n+1):\n",
    "        fv = pv * ((1 + r )**x)\n",
    "        print(f\"year {x:02} = {(fv):.3f}$\" )\n",
    "    return fv\n",
    "    \n",
    "future_value(10000, 0.045, 15)"
   ]
  },
  {
   "cell_type": "code",
   "execution_count": 33,
   "metadata": {},
   "outputs": [
    {
     "name": "stdout",
     "output_type": "stream",
     "text": [
      "Welcome to future value caluator\n",
      " present value ($) : 10000\n",
      " annual interest rate (%) : 4.5\n",
      " number of periods interest held (year) : 15\n",
      "The future value is 19352.82 ($) in 15.0 year\n",
      "The future value is  19352.82443091153 ($) in 15.0 year\n"
     ]
    }
   ],
   "source": [
    "def future_value(pv, r, n):\n",
    "#     FV=PV(1+r)^{n}\n",
    "    fv = pv * ((1 + r / 100 )**n)\n",
    "    return fv\n",
    "        \n",
    "print(\"Welcome to future value caluator\")\n",
    "x = float(input(\" present value ($) : \"))\n",
    "y = float(input(\" annual interest rate (%) : \"))\n",
    "z = float(input(\" number of periods interest held (year) : \"))\n",
    "print(f\"The future value is {future_value(x, y, z):.2f} ($) in {z} year\")\n",
    "print(f\"The future value is \", future_value(x, y, z), f\"($) in {z} year\")\n",
    "\n"
   ]
  },
  {
   "cell_type": "code",
   "execution_count": null,
   "metadata": {},
   "outputs": [],
   "source": []
  }
 ],
 "metadata": {
  "kernelspec": {
   "display_name": "Python 3",
   "language": "python",
   "name": "python3"
  },
  "language_info": {
   "codemirror_mode": {
    "name": "ipython",
    "version": 3
   },
   "file_extension": ".py",
   "mimetype": "text/x-python",
   "name": "python",
   "nbconvert_exporter": "python",
   "pygments_lexer": "ipython3",
   "version": "3.8.10"
  }
 },
 "nbformat": 4,
 "nbformat_minor": 4
}
