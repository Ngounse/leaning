{
 "cells": [
  {
   "cell_type": "markdown",
   "metadata": {},
   "source": [
    "### pyrhon zip()\n"
   ]
  },
  {
   "cell_type": "markdown",
   "metadata": {},
   "source": [
    "#python map() and filter\n",
    "numpy\n",
    "scipy\n",
    "pandas\n"
   ]
  },
  {
   "cell_type": "markdown",
   "metadata": {},
   "source": [
    "### python map()"
   ]
  },
  {
   "cell_type": "code",
   "execution_count": 7,
   "metadata": {},
   "outputs": [
    {
     "name": "stdout",
     "output_type": "stream",
     "text": [
      "['Cambodai', 'Thailand', 'Laos', 'Brunei']\n",
      "['Cambodai', 'Thailand', 'Laos', 'Brunei']\n"
     ]
    }
   ],
   "source": [
    "def test_map():\n",
    "    country = ['cambodai', 'thailand', 'laos', 'brunei']\n",
    "    country1 = list(map(str.capitalize, country))\n",
    "    country2 = [f.capitalize() for f in country]\n",
    "    \n",
    "    print(country1)\n",
    "    print(country2)\n",
    "\n",
    "test_map()"
   ]
  },
  {
   "cell_type": "code",
   "execution_count": null,
   "metadata": {},
   "outputs": [],
   "source": [
    "def test_map1():\n",
    "    country = [56, 78, 90, 60]\n",
    "    country1 = list(map(str.capitalize, country))\n",
    "    country2 = [f.capitalize() for f in country]\n",
    "    \n",
    "    print(country1)\n",
    "    print(country2)\n",
    "\n",
    "test_map()"
   ]
  },
  {
   "cell_type": "markdown",
   "metadata": {},
   "source": [
    "### Python filter()"
   ]
  },
  {
   "cell_type": "code",
   "execution_count": 12,
   "metadata": {},
   "outputs": [
    {
     "name": "stdout",
     "output_type": "stream",
     "text": [
      "<class 'filter'>\n",
      "<filter object at 0x7f2bf91f8640>\n",
      "[34, 60, 78, 46]\n"
     ]
    }
   ],
   "source": [
    "def test_fil():\n",
    "    age = [34, 55, 60, 23, 78, 37, 46]\n",
    "    age_e = filter(lambda i:i%2==0, age)\n",
    "    \n",
    "    print (type(age_e))\n",
    "    print (age_e)\n",
    "    print (list(age_e))\n",
    "\n",
    "test_fil()"
   ]
  },
  {
   "cell_type": "code",
   "execution_count": 15,
   "metadata": {},
   "outputs": [
    {
     "name": "stdout",
     "output_type": "stream",
     "text": [
      "[55, 23, 37]\n"
     ]
    }
   ],
   "source": [
    "def test_fil2():\n",
    "    age = [34, 55, 60, 23, 78, 37, 46]\n",
    "    age_o = filter(lambda i:i%2!=0, age)\n",
    "    \n",
    "    print (list(age_o))\n",
    "\n",
    "test_fil2()"
   ]
  },
  {
   "cell_type": "code",
   "execution_count": 24,
   "metadata": {},
   "outputs": [
    {
     "name": "stdout",
     "output_type": "stream",
     "text": [
      "[False, False, False, True, False, False, True]\n",
      "['Malaysia', 'Laos']\n"
     ]
    }
   ],
   "source": [
    "# country = ['Cambodia', 'Vietnam', 'Thailand', 'Malaysia', 'Brunei', 'Qata', 'Laos']\n",
    "def country_lit():\n",
    "    country = ['Cambodia', 'Vietnam', 'Thailand', 'Malaysia', 'Brunei', 'Qata', 'Laos']\n",
    "    list_country = [('s') in c for c in country]\n",
    "    print(list_country)\n",
    "    \n",
    "    country_with_s = filter(lambda c:'s' in c, country)\n",
    "    print(list(country_with_s))\n",
    "    \n",
    "\n",
    "country_lit()"
   ]
  },
  {
   "cell_type": "code",
   "execution_count": 32,
   "metadata": {},
   "outputs": [
    {
     "name": "stdout",
     "output_type": "stream",
     "text": [
      "[['Vietnam', 54], ['Thailand', 50], ['Laos', 46]]\n",
      "[['Qata', 73], ['Laos', 46]]\n",
      "[['Qata', 73], ['Laos', 46]]\n",
      "['Cambodia', 'Vietnam', 'Thailand', 'Malaysia', 'Brunei']\n"
     ]
    }
   ],
   "source": [
    "# country = [['Cambodia',55], ['Vietnam',54], ['Thailand',50], ['Malaysia',65], ['Brunei',70], ['Qata',73], ['Laos',46]]\n",
    "# fine score lower than 55\n",
    "# country has no more than 5 later\n",
    "# print only country name if len more that 5\n",
    "def test_fil3():\n",
    "    country = [['Cambodia',55], ['Vietnam',54], ['Thailand',50], ['Malaysia',65], ['Brunei',70], ['Qata',73], ['Laos',46]]\n",
    "    country_low = filter(lambda c:c[1] < 55 , country)\n",
    "    country_short = filter(lambda c:len(c[0]) < 5 , country)\n",
    "    print(list(country_low))\n",
    "    print(list(country_short))\n",
    "    \n",
    "    short_1 = [c for c in country if (len(c[0]) < 5)]\n",
    "    country_long = [c[0] for c in country if (len(c[0]) > 5)]\n",
    "    print(list(short_1))\n",
    "    print(list(country_long))\n",
    "    \n",
    "\n",
    "test_fil3()"
   ]
  },
  {
   "cell_type": "code",
   "execution_count": null,
   "metadata": {},
   "outputs": [],
   "source": []
  }
 ],
 "metadata": {
  "kernelspec": {
   "display_name": "Python 3 (ipykernel)",
   "language": "python",
   "name": "python3"
  },
  "language_info": {
   "codemirror_mode": {
    "name": "ipython",
    "version": 3
   },
   "file_extension": ".py",
   "mimetype": "text/x-python",
   "name": "python",
   "nbconvert_exporter": "python",
   "pygments_lexer": "ipython3",
   "version": "3.7.11"
  }
 },
 "nbformat": 4,
 "nbformat_minor": 4
}
