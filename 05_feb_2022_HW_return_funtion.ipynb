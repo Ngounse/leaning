{
 "cells": [
  {
   "cell_type": "code",
   "execution_count": 26,
   "metadata": {},
   "outputs": [
    {
     "data": {
      "text/plain": [
       "'2030,2065,2100,2135,2170,2205,2240,2275,2310,2345,2380,2415,2450,2485,2520,2555,2590,2625,2660,2695,2730,2765,2800,2835,2870,2905,2940,2975,3010,3045,3080,3115,3150,3185'"
      ]
     },
     "execution_count": 26,
     "metadata": {},
     "output_type": "execute_result"
    }
   ],
   "source": [
    "## Question 1\n",
    "\n",
    "def divisible_but_not_multiple(xpast, xfuture):\n",
    "    nl=[]\n",
    "    for x in range(xpast, xfuture):\n",
    "        if (x%7==0) and (x%5==0):\n",
    "            nl.append(str(x))\n",
    "\n",
    "    return (','.join(nl))\n",
    "\n",
    "xpast, xfuture = 2000, 3200\n",
    "# xpast = int(input(\"Enter a number xpast: \"))\n",
    "# xfuture = int(input(\"Enter a number xfuture: \"))\n",
    "\n",
    "divisible_but_not_multiple(xpast,xfuture)"
   ]
  },
  {
   "cell_type": "code",
   "execution_count": 2,
   "metadata": {},
   "outputs": [
    {
     "name": "stdout",
     "output_type": "stream",
     "text": [
      "The factorial of 8 is 40320\n"
     ]
    }
   ],
   "source": [
    "# Question 2\n",
    "\n",
    "def factorial(num):\n",
    "    factorial = 1\n",
    "    if num < 0:\n",
    "       print(\"Sorry, factorial does not exist for positive numbers\")\n",
    "    elif num == 0:\n",
    "       print(\"The factorial of 0 is 1\")\n",
    "    elif num > 0:\n",
    "       for i in range(1,num + 1):\n",
    "           factorial = factorial*i\n",
    "       print(\"The factorial of\",num,\"is\",factorial)\n",
    "    else:\n",
    "       print(\"Factorial potive numbers\")\n",
    "\n",
    "# num = 8\n",
    "num = int(input(\"Enter a number: \"))\n",
    "factorial(num)"
   ]
  },
  {
   "cell_type": "code",
   "execution_count": 27,
   "metadata": {},
   "outputs": [
    {
     "name": "stdout",
     "output_type": "stream",
     "text": [
      "Type a number:  8\n"
     ]
    },
    {
     "data": {
      "text/plain": [
       "{1: 1, 2: 4, 3: 9, 4: 16, 5: 25, 6: 36, 7: 49, 8: 64}"
      ]
     },
     "execution_count": 27,
     "metadata": {},
     "output_type": "execute_result"
    }
   ],
   "source": [
    "## Question 3\n",
    "\n",
    "def generate_dictionary(number):\n",
    "    numberDict = {}\n",
    "    \n",
    "    for i in range(1, number+1):\n",
    "        numberDict[i] = i*i\n",
    "\n",
    "    return(numberDict)\n",
    "\n",
    "# number = 4\n",
    "number = int(input(\"Type a number: \"))\n",
    "\n",
    "generate_dictionary(number)"
   ]
  },
  {
   "cell_type": "code",
   "execution_count": 6,
   "metadata": {},
   "outputs": [
    {
     "name": "stdout",
     "output_type": "stream",
     "text": [
      "['34', '67', '55', '33', '12', '98']  \n",
      "['34', '67', '55', '33', '12', '98']\n"
     ]
    }
   ],
   "source": [
    "## Question 4\n",
    "# import numpy as np\n",
    "\n",
    "a = '34,67,55,33,12,98'\n",
    "# a = (input(\"Type a number: \"))\n",
    "\n",
    "b = a.split(',')\n",
    "\n",
    "print(b ,' ')\n",
    "print(list(b))"
   ]
  },
  {
   "cell_type": "code",
   "execution_count": 9,
   "metadata": {},
   "outputs": [
    {
     "name": "stdout",
     "output_type": "stream",
     "text": [
      "Pet type:  Dragon\n",
      "EyesColor :  Red\n",
      "Jerry is a Dragon and its eyes are Red\n"
     ]
    }
   ],
   "source": [
    "## Question 5\n",
    "\n",
    "class Pet:                \n",
    " \n",
    "    def __init__(self, petType, petEyeColor): \n",
    "\n",
    "        self.type = petType  \n",
    "        self.eyeColor = petEyeColor\n",
    "\n",
    "petType = input('Pet type: ')\n",
    "eyeColor = input('EyesColor : ')\n",
    "    \n",
    "jerry = Pet(petType,eyeColor)\n",
    "    \n",
    "print(\"Jerry is a\",jerry.type,\"and its eyes are\",jerry.eyeColor)\n"
   ]
  },
  {
   "cell_type": "code",
   "execution_count": 12,
   "metadata": {},
   "outputs": [
    {
     "name": "stdout",
     "output_type": "stream",
     "text": [
      "Provide D:  100,150,180\n",
      "[18, 22, 24]\n"
     ]
    }
   ],
   "source": [
    "# Question 6\n",
    "import math\n",
    "\n",
    "D =  100,150,180\n",
    "\n",
    "numbers = input(\"Provide D: \")\n",
    "numbers = numbers.split(',')\n",
    "\n",
    "result_list = []\n",
    "for D in numbers:\n",
    "    Q = round(math.sqrt(2 * 50 * int(D) / 30))\n",
    "    result_list.append(Q)\n",
    "\n",
    "print(result_list)"
   ]
  },
  {
   "cell_type": "code",
   "execution_count": 4,
   "metadata": {},
   "outputs": [
    {
     "name": "stdout",
     "output_type": "stream",
     "text": [
      "Input number of rows:  3\n",
      "Input number of columns:  5\n",
      "[[0, 0, 0, 0, 0], [0, 1, 2, 3, 4], [0, 2, 4, 6, 8]]\n"
     ]
    }
   ],
   "source": [
    "# Question 7\n",
    "\n",
    "row_num = int(input(\"Input number of rows: \"))\n",
    "col_num = int(input(\"Input number of columns: \"))\n",
    "multi_list = [[0 for col in range(col_num)] for row in range(row_num)]\n",
    "\n",
    "for row in range(row_num):\n",
    "    for col in range(col_num):\n",
    "        multi_list[row][col]= row*col\n",
    "\n",
    "print(multi_list)"
   ]
  },
  {
   "cell_type": "code",
   "execution_count": 24,
   "metadata": {},
   "outputs": [
    {
     "name": "stdout",
     "output_type": "stream",
     "text": [
      "Input item of list separated by (comma):  without,hello,bag,world\n",
      "['bag', 'hello', 'without', 'world']\n"
     ]
    }
   ],
   "source": [
    "# Question 8\n",
    "\n",
    "# item = 'without,hello,bag,world'\n",
    "\n",
    "def separated_by_comma(item):\n",
    "    item_list= item.split(',')\n",
    "    item_list.sort()\n",
    "    return(item_list)\n",
    "\n",
    "item = input(\"Input item of list separated by (comma): \")\n",
    "separated_by_comma(item)"
   ]
  },
  {
   "cell_type": "code",
   "execution_count": 25,
   "metadata": {},
   "outputs": [
    {
     "name": "stdout",
     "output_type": "stream",
     "text": [
      "Input item of entence to tranform uppercase:  Hello world Practice makes perfect\n"
     ]
    },
    {
     "data": {
      "text/plain": [
       "'HELLO WORLD PRACTICE MAKES PERFECT'"
      ]
     },
     "execution_count": 25,
     "metadata": {},
     "output_type": "execute_result"
    }
   ],
   "source": [
    "# Question 9\n",
    "\n",
    "# Suppose the following input is supplied to the program:\n",
    "# item = 'Hello world Practice makes perfect'\n",
    "def tranform_uppercase(item):\n",
    "    return(item.upper())\n",
    "\n",
    "item = input(\"Input item of entence to tranform uppercase: \")\n",
    "\n",
    "tranform_uppercase(item)"
   ]
  },
  {
   "cell_type": "code",
   "execution_count": 22,
   "metadata": {},
   "outputs": [
    {
     "name": "stdout",
     "output_type": "stream",
     "text": [
      "Input item of word to remove duplicated :  hello world and practice makes perfect and hello world again\n",
      "['makes', 'again', 'perfect', 'practice', 'hello', 'world', 'and']\n"
     ]
    }
   ],
   "source": [
    "# Question 10 \n",
    "\n",
    "def remove_duplicated(item):\n",
    "    item = a.split(' ')\n",
    "\n",
    "    item_list = list(set(item))\n",
    "    return(item_list)\n",
    "    \n",
    "# word = 'hello world and practice makes perfect and hello world again'\n",
    "word = input(\"Input item of word to remove duplicated : \")\n",
    "\n",
    "remove_duplicated(word)"
   ]
  },
  {
   "cell_type": "code",
   "execution_count": null,
   "metadata": {},
   "outputs": [],
   "source": []
  }
 ],
 "metadata": {
  "kernelspec": {
   "display_name": "Python 3 (ipykernel)",
   "language": "python",
   "name": "python3"
  },
  "language_info": {
   "codemirror_mode": {
    "name": "ipython",
    "version": 3
   },
   "file_extension": ".py",
   "mimetype": "text/x-python",
   "name": "python",
   "nbconvert_exporter": "python",
   "pygments_lexer": "ipython3",
   "version": "3.7.11"
  }
 },
 "nbformat": 4,
 "nbformat_minor": 4
}
